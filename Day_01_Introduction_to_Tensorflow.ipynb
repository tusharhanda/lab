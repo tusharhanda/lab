{
  "nbformat": 4,
  "nbformat_minor": 0,
  "metadata": {
    "colab": {
      "name": "Day 01 - Introduction to Tensorflow",
      "provenance": [],
      "authorship_tag": "ABX9TyOI4Mwme/YOjXesSt5eO37k",
      "include_colab_link": true
    },
    "kernelspec": {
      "name": "python3",
      "display_name": "Python 3"
    }
  },
  "cells": [
    {
      "cell_type": "markdown",
      "metadata": {
        "id": "view-in-github",
        "colab_type": "text"
      },
      "source": [
        "<a href=\"https://colab.research.google.com/github/tusharhanda/lab/blob/master/Day_01_Introduction_to_Tensorflow.ipynb\" target=\"_parent\"><img src=\"https://colab.research.google.com/assets/colab-badge.svg\" alt=\"Open In Colab\"/></a>"
      ]
    },
    {
      "cell_type": "markdown",
      "metadata": {
        "id": "zQGHrq1cHx34",
        "colab_type": "text"
      },
      "source": [
        "This workbook contains Day 1 of studying Coursera's *Tensorflow in Practice* course. It is divided into following x sections:\n",
        "\n",
        "01. Predicting linear relationship between two numbers\n",
        "02. Simple Image Recognition using Fashion MNIST data\n",
        "03. Predict Hand Written Digits using MNIST data\n",
        "\n"
      ]
    },
    {
      "cell_type": "markdown",
      "metadata": {
        "id": "udyilRGBHTkg",
        "colab_type": "text"
      },
      "source": [
        "## **01. Predict linear relationship between two numbers**\n"
      ]
    },
    {
      "cell_type": "markdown",
      "metadata": {
        "id": "IgAFrX3PO8pC",
        "colab_type": "text"
      },
      "source": [
        "This model predicts y based on given x values. It is a very simple neural network to understand linear relationship between two given numbers."
      ]
    },
    {
      "cell_type": "code",
      "metadata": {
        "id": "d3l1xVt-IPlK",
        "colab_type": "code",
        "colab": {}
      },
      "source": [
        "import tensorflow as tf\n",
        "import numpy as np #Numpy helps represent our data as lists easily and quickly"
      ],
      "execution_count": 0,
      "outputs": []
    },
    {
      "cell_type": "markdown",
      "metadata": {
        "id": "WzxRH2CtI4k2",
        "colab_type": "text"
      },
      "source": [
        "This model uses only 1 layer that has 1 neuron and the input shape to it is just 1 value."
      ]
    },
    {
      "cell_type": "code",
      "metadata": {
        "id": "P4PtMNs_JY03",
        "colab_type": "code",
        "colab": {}
      },
      "source": [
        "#Keras is a framework that helps define our neural network as a set of sequential layers\n",
        "model = tf.keras.Sequential([keras.layers.Dense(units=1, input_shape=[1])]) "
      ],
      "execution_count": 0,
      "outputs": []
    },
    {
      "cell_type": "markdown",
      "metadata": {
        "id": "OWdtFFuGKKRp",
        "colab_type": "text"
      },
      "source": [
        "To compile our model we need to define LOSS and OPTIMIZER:\n",
        "\n",
        "\n",
        "*   **LOSS:** Measures the guessed answers against the known correct answers and measures how well or badly it did. Here we use *Mean Squared Error* for loss\n",
        "*   **OPTIMIZER:** It tries to minimize the loss by making better guesses. Here we use *Stochastic Gradient Descent* as our optimizer\n",
        "\n",
        "Also, this process repeats n number of times where n is **EPOCH**\n"
      ]
    },
    {
      "cell_type": "code",
      "metadata": {
        "id": "y-zpRiZBLkjS",
        "colab_type": "code",
        "colab": {}
      },
      "source": [
        "model.compile(optimizer='sgd',\n",
        "              loss='mean_squared_error',\n",
        "              metrics=['accuracy']) #adding metrics to see the accuracy of the model"
      ],
      "execution_count": 0,
      "outputs": []
    },
    {
      "cell_type": "markdown",
      "metadata": {
        "id": "x2V3VtEtL_05",
        "colab_type": "text"
      },
      "source": [
        "Data used here is in the form of Numpy array\n"
      ]
    },
    {
      "cell_type": "code",
      "metadata": {
        "id": "mIHL_s2RL5Y6",
        "colab_type": "code",
        "colab": {}
      },
      "source": [
        "xs = np.array([-1.0,  0.0, 1.0, 2.0, 3.0, 4.0], dtype=float)\n",
        "ys = np.array([-3.0, -1.0, 1.0, 3.0, 5.0, 7.0], dtype=float)"
      ],
      "execution_count": 0,
      "outputs": []
    },
    {
      "cell_type": "markdown",
      "metadata": {
        "id": "BImJVEcKMsHw",
        "colab_type": "text"
      },
      "source": [
        "We then fit the model with the data and here we provide the number of EPOCHs"
      ]
    },
    {
      "cell_type": "code",
      "metadata": {
        "id": "-jFxbHY5Mrv-",
        "colab_type": "code",
        "colab": {
          "base_uri": "https://localhost:8080/",
          "height": 1000
        },
        "outputId": "3510ad6c-1a4d-4eee-c7e0-b5cb8904f49b"
      },
      "source": [
        "model.fit(xs, ys, epochs=500)"
      ],
      "execution_count": 14,
      "outputs": [
        {
          "output_type": "stream",
          "text": [
            "Train on 6 samples\n",
            "Epoch 1/500\n",
            "6/6 [==============================] - 0s 6ms/sample - loss: 4.4833e-05 - acc: 0.1667\n",
            "Epoch 2/500\n",
            "6/6 [==============================] - 0s 206us/sample - loss: 4.3912e-05 - acc: 0.1667\n",
            "Epoch 3/500\n",
            "6/6 [==============================] - 0s 207us/sample - loss: 4.3010e-05 - acc: 0.1667\n",
            "Epoch 4/500\n",
            "6/6 [==============================] - 0s 221us/sample - loss: 4.2127e-05 - acc: 0.1667\n",
            "Epoch 5/500\n",
            "6/6 [==============================] - 0s 204us/sample - loss: 4.1261e-05 - acc: 0.1667\n",
            "Epoch 6/500\n",
            "6/6 [==============================] - 0s 218us/sample - loss: 4.0414e-05 - acc: 0.1667\n",
            "Epoch 7/500\n",
            "6/6 [==============================] - 0s 181us/sample - loss: 3.9583e-05 - acc: 0.1667\n",
            "Epoch 8/500\n",
            "6/6 [==============================] - 0s 342us/sample - loss: 3.8769e-05 - acc: 0.1667\n",
            "Epoch 9/500\n",
            "6/6 [==============================] - 0s 646us/sample - loss: 3.7973e-05 - acc: 0.1667\n",
            "Epoch 10/500\n",
            "6/6 [==============================] - 0s 239us/sample - loss: 3.7194e-05 - acc: 0.1667\n",
            "Epoch 11/500\n",
            "6/6 [==============================] - 0s 493us/sample - loss: 3.6430e-05 - acc: 0.1667\n",
            "Epoch 12/500\n",
            "6/6 [==============================] - 0s 198us/sample - loss: 3.5681e-05 - acc: 0.1667\n",
            "Epoch 13/500\n",
            "6/6 [==============================] - 0s 238us/sample - loss: 3.4948e-05 - acc: 0.1667\n",
            "Epoch 14/500\n",
            "6/6 [==============================] - 0s 546us/sample - loss: 3.4230e-05 - acc: 0.1667\n",
            "Epoch 15/500\n",
            "6/6 [==============================] - 0s 588us/sample - loss: 3.3527e-05 - acc: 0.1667\n",
            "Epoch 16/500\n",
            "6/6 [==============================] - 0s 169us/sample - loss: 3.2838e-05 - acc: 0.1667\n",
            "Epoch 17/500\n",
            "6/6 [==============================] - 0s 472us/sample - loss: 3.2164e-05 - acc: 0.1667\n",
            "Epoch 18/500\n",
            "6/6 [==============================] - 0s 221us/sample - loss: 3.1503e-05 - acc: 0.1667\n",
            "Epoch 19/500\n",
            "6/6 [==============================] - 0s 205us/sample - loss: 3.0856e-05 - acc: 0.1667\n",
            "Epoch 20/500\n",
            "6/6 [==============================] - 0s 244us/sample - loss: 3.0222e-05 - acc: 0.1667\n",
            "Epoch 21/500\n",
            "6/6 [==============================] - 0s 200us/sample - loss: 2.9601e-05 - acc: 0.1667\n",
            "Epoch 22/500\n",
            "6/6 [==============================] - 0s 182us/sample - loss: 2.8994e-05 - acc: 0.1667\n",
            "Epoch 23/500\n",
            "6/6 [==============================] - 0s 164us/sample - loss: 2.8398e-05 - acc: 0.1667\n",
            "Epoch 24/500\n",
            "6/6 [==============================] - 0s 208us/sample - loss: 2.7815e-05 - acc: 0.1667\n",
            "Epoch 25/500\n",
            "6/6 [==============================] - 0s 199us/sample - loss: 2.7244e-05 - acc: 0.1667\n",
            "Epoch 26/500\n",
            "6/6 [==============================] - 0s 225us/sample - loss: 2.6684e-05 - acc: 0.1667\n",
            "Epoch 27/500\n",
            "6/6 [==============================] - 0s 691us/sample - loss: 2.6136e-05 - acc: 0.1667\n",
            "Epoch 28/500\n",
            "6/6 [==============================] - 0s 406us/sample - loss: 2.5599e-05 - acc: 0.1667\n",
            "Epoch 29/500\n",
            "6/6 [==============================] - 0s 269us/sample - loss: 2.5074e-05 - acc: 0.1667\n",
            "Epoch 30/500\n",
            "6/6 [==============================] - 0s 248us/sample - loss: 2.4558e-05 - acc: 0.1667\n",
            "Epoch 31/500\n",
            "6/6 [==============================] - 0s 257us/sample - loss: 2.4054e-05 - acc: 0.1667\n",
            "Epoch 32/500\n",
            "6/6 [==============================] - 0s 422us/sample - loss: 2.3560e-05 - acc: 0.1667\n",
            "Epoch 33/500\n",
            "6/6 [==============================] - 0s 516us/sample - loss: 2.3076e-05 - acc: 0.1667\n",
            "Epoch 34/500\n",
            "6/6 [==============================] - 0s 332us/sample - loss: 2.2602e-05 - acc: 0.1667\n",
            "Epoch 35/500\n",
            "6/6 [==============================] - 0s 278us/sample - loss: 2.2138e-05 - acc: 0.1667\n",
            "Epoch 36/500\n",
            "6/6 [==============================] - 0s 267us/sample - loss: 2.1682e-05 - acc: 0.1667\n",
            "Epoch 37/500\n",
            "6/6 [==============================] - 0s 153us/sample - loss: 2.1238e-05 - acc: 0.1667\n",
            "Epoch 38/500\n",
            "6/6 [==============================] - 0s 171us/sample - loss: 2.0801e-05 - acc: 0.1667\n",
            "Epoch 39/500\n",
            "6/6 [==============================] - 0s 215us/sample - loss: 2.0374e-05 - acc: 0.1667\n",
            "Epoch 40/500\n",
            "6/6 [==============================] - 0s 247us/sample - loss: 1.9955e-05 - acc: 0.1667\n",
            "Epoch 41/500\n",
            "6/6 [==============================] - 0s 228us/sample - loss: 1.9545e-05 - acc: 0.1667\n",
            "Epoch 42/500\n",
            "6/6 [==============================] - 0s 227us/sample - loss: 1.9144e-05 - acc: 0.1667\n",
            "Epoch 43/500\n",
            "6/6 [==============================] - 0s 221us/sample - loss: 1.8751e-05 - acc: 0.1667\n",
            "Epoch 44/500\n",
            "6/6 [==============================] - 0s 204us/sample - loss: 1.8365e-05 - acc: 0.1667\n",
            "Epoch 45/500\n",
            "6/6 [==============================] - 0s 336us/sample - loss: 1.7988e-05 - acc: 0.1667\n",
            "Epoch 46/500\n",
            "6/6 [==============================] - 0s 255us/sample - loss: 1.7619e-05 - acc: 0.1667\n",
            "Epoch 47/500\n",
            "6/6 [==============================] - 0s 353us/sample - loss: 1.7257e-05 - acc: 0.1667\n",
            "Epoch 48/500\n",
            "6/6 [==============================] - 0s 233us/sample - loss: 1.6903e-05 - acc: 0.1667\n",
            "Epoch 49/500\n",
            "6/6 [==============================] - 0s 309us/sample - loss: 1.6555e-05 - acc: 0.1667\n",
            "Epoch 50/500\n",
            "6/6 [==============================] - 0s 151us/sample - loss: 1.6215e-05 - acc: 0.1667\n",
            "Epoch 51/500\n",
            "6/6 [==============================] - 0s 215us/sample - loss: 1.5882e-05 - acc: 0.1667\n",
            "Epoch 52/500\n",
            "6/6 [==============================] - 0s 292us/sample - loss: 1.5556e-05 - acc: 0.1667\n",
            "Epoch 53/500\n",
            "6/6 [==============================] - 0s 257us/sample - loss: 1.5236e-05 - acc: 0.1667\n",
            "Epoch 54/500\n",
            "6/6 [==============================] - 0s 294us/sample - loss: 1.4923e-05 - acc: 0.1667\n",
            "Epoch 55/500\n",
            "6/6 [==============================] - 0s 232us/sample - loss: 1.4617e-05 - acc: 0.1667\n",
            "Epoch 56/500\n",
            "6/6 [==============================] - 0s 226us/sample - loss: 1.4317e-05 - acc: 0.1667\n",
            "Epoch 57/500\n",
            "6/6 [==============================] - 0s 206us/sample - loss: 1.4023e-05 - acc: 0.1667\n",
            "Epoch 58/500\n",
            "6/6 [==============================] - 0s 218us/sample - loss: 1.3735e-05 - acc: 0.1667\n",
            "Epoch 59/500\n",
            "6/6 [==============================] - 0s 455us/sample - loss: 1.3453e-05 - acc: 0.1667\n",
            "Epoch 60/500\n",
            "6/6 [==============================] - 0s 226us/sample - loss: 1.3176e-05 - acc: 0.1667\n",
            "Epoch 61/500\n",
            "6/6 [==============================] - 0s 252us/sample - loss: 1.2906e-05 - acc: 0.1667\n",
            "Epoch 62/500\n",
            "6/6 [==============================] - 0s 230us/sample - loss: 1.2641e-05 - acc: 0.1667\n",
            "Epoch 63/500\n",
            "6/6 [==============================] - 0s 210us/sample - loss: 1.2381e-05 - acc: 0.1667\n",
            "Epoch 64/500\n",
            "6/6 [==============================] - 0s 558us/sample - loss: 1.2127e-05 - acc: 0.1667\n",
            "Epoch 65/500\n",
            "6/6 [==============================] - 0s 271us/sample - loss: 1.1877e-05 - acc: 0.1667\n",
            "Epoch 66/500\n",
            "6/6 [==============================] - 0s 264us/sample - loss: 1.1634e-05 - acc: 0.1667\n",
            "Epoch 67/500\n",
            "6/6 [==============================] - 0s 341us/sample - loss: 1.1395e-05 - acc: 0.1667\n",
            "Epoch 68/500\n",
            "6/6 [==============================] - 0s 317us/sample - loss: 1.1160e-05 - acc: 0.1667\n",
            "Epoch 69/500\n",
            "6/6 [==============================] - 0s 299us/sample - loss: 1.0931e-05 - acc: 0.1667\n",
            "Epoch 70/500\n",
            "6/6 [==============================] - 0s 400us/sample - loss: 1.0707e-05 - acc: 0.1667\n",
            "Epoch 71/500\n",
            "6/6 [==============================] - 0s 303us/sample - loss: 1.0487e-05 - acc: 0.1667\n",
            "Epoch 72/500\n",
            "6/6 [==============================] - 0s 325us/sample - loss: 1.0271e-05 - acc: 0.1667\n",
            "Epoch 73/500\n",
            "6/6 [==============================] - 0s 339us/sample - loss: 1.0061e-05 - acc: 0.1667\n",
            "Epoch 74/500\n",
            "6/6 [==============================] - 0s 283us/sample - loss: 9.8535e-06 - acc: 0.1667\n",
            "Epoch 75/500\n",
            "6/6 [==============================] - 0s 317us/sample - loss: 9.6512e-06 - acc: 0.1667\n",
            "Epoch 76/500\n",
            "6/6 [==============================] - 0s 251us/sample - loss: 9.4528e-06 - acc: 0.1667\n",
            "Epoch 77/500\n",
            "6/6 [==============================] - 0s 240us/sample - loss: 9.2587e-06 - acc: 0.1667\n",
            "Epoch 78/500\n",
            "6/6 [==============================] - 0s 269us/sample - loss: 9.0685e-06 - acc: 0.1667\n",
            "Epoch 79/500\n",
            "6/6 [==============================] - 0s 349us/sample - loss: 8.8823e-06 - acc: 0.1667\n",
            "Epoch 80/500\n",
            "6/6 [==============================] - 0s 385us/sample - loss: 8.7000e-06 - acc: 0.1667\n",
            "Epoch 81/500\n",
            "6/6 [==============================] - 0s 275us/sample - loss: 8.5212e-06 - acc: 0.1667\n",
            "Epoch 82/500\n",
            "6/6 [==============================] - 0s 232us/sample - loss: 8.3462e-06 - acc: 0.1667\n",
            "Epoch 83/500\n",
            "6/6 [==============================] - 0s 320us/sample - loss: 8.1749e-06 - acc: 0.1667\n",
            "Epoch 84/500\n",
            "6/6 [==============================] - 0s 277us/sample - loss: 8.0065e-06 - acc: 0.1667\n",
            "Epoch 85/500\n",
            "6/6 [==============================] - 0s 245us/sample - loss: 7.8423e-06 - acc: 0.1667\n",
            "Epoch 86/500\n",
            "6/6 [==============================] - 0s 382us/sample - loss: 7.6811e-06 - acc: 0.1667\n",
            "Epoch 87/500\n",
            "6/6 [==============================] - 0s 357us/sample - loss: 7.5230e-06 - acc: 0.1667\n",
            "Epoch 88/500\n",
            "6/6 [==============================] - 0s 325us/sample - loss: 7.3689e-06 - acc: 0.1667\n",
            "Epoch 89/500\n",
            "6/6 [==============================] - 0s 284us/sample - loss: 7.2175e-06 - acc: 0.1667\n",
            "Epoch 90/500\n",
            "6/6 [==============================] - 0s 430us/sample - loss: 7.0694e-06 - acc: 0.1667\n",
            "Epoch 91/500\n",
            "6/6 [==============================] - 0s 357us/sample - loss: 6.9241e-06 - acc: 0.1667\n",
            "Epoch 92/500\n",
            "6/6 [==============================] - 0s 343us/sample - loss: 6.7817e-06 - acc: 0.1667\n",
            "Epoch 93/500\n",
            "6/6 [==============================] - 0s 331us/sample - loss: 6.6426e-06 - acc: 0.1667\n",
            "Epoch 94/500\n",
            "6/6 [==============================] - 0s 290us/sample - loss: 6.5064e-06 - acc: 0.1667\n",
            "Epoch 95/500\n",
            "6/6 [==============================] - 0s 297us/sample - loss: 6.3726e-06 - acc: 0.1667\n",
            "Epoch 96/500\n",
            "6/6 [==============================] - 0s 393us/sample - loss: 6.2415e-06 - acc: 0.1667\n",
            "Epoch 97/500\n",
            "6/6 [==============================] - 0s 289us/sample - loss: 6.1136e-06 - acc: 0.1667\n",
            "Epoch 98/500\n",
            "6/6 [==============================] - 0s 261us/sample - loss: 5.9883e-06 - acc: 0.1667\n",
            "Epoch 99/500\n",
            "6/6 [==============================] - 0s 285us/sample - loss: 5.8653e-06 - acc: 0.1667\n",
            "Epoch 100/500\n",
            "6/6 [==============================] - 0s 267us/sample - loss: 5.7448e-06 - acc: 0.1667\n",
            "Epoch 101/500\n",
            "6/6 [==============================] - 0s 268us/sample - loss: 5.6265e-06 - acc: 0.1667\n",
            "Epoch 102/500\n",
            "6/6 [==============================] - 0s 1ms/sample - loss: 5.5110e-06 - acc: 0.1667\n",
            "Epoch 103/500\n",
            "6/6 [==============================] - 0s 479us/sample - loss: 5.3978e-06 - acc: 0.1667\n",
            "Epoch 104/500\n",
            "6/6 [==============================] - 0s 474us/sample - loss: 5.2866e-06 - acc: 0.1667\n",
            "Epoch 105/500\n",
            "6/6 [==============================] - 0s 430us/sample - loss: 5.1782e-06 - acc: 0.1667\n",
            "Epoch 106/500\n",
            "6/6 [==============================] - 0s 324us/sample - loss: 5.0717e-06 - acc: 0.1667\n",
            "Epoch 107/500\n",
            "6/6 [==============================] - 0s 311us/sample - loss: 4.9678e-06 - acc: 0.1667\n",
            "Epoch 108/500\n",
            "6/6 [==============================] - 0s 509us/sample - loss: 4.8658e-06 - acc: 0.1667\n",
            "Epoch 109/500\n",
            "6/6 [==============================] - 0s 950us/sample - loss: 4.7655e-06 - acc: 0.1667\n",
            "Epoch 110/500\n",
            "6/6 [==============================] - 0s 389us/sample - loss: 4.6679e-06 - acc: 0.1667\n",
            "Epoch 111/500\n",
            "6/6 [==============================] - 0s 526us/sample - loss: 4.5720e-06 - acc: 0.1667\n",
            "Epoch 112/500\n",
            "6/6 [==============================] - 0s 365us/sample - loss: 4.4777e-06 - acc: 0.1667\n",
            "Epoch 113/500\n",
            "6/6 [==============================] - 0s 354us/sample - loss: 4.3859e-06 - acc: 0.1667\n",
            "Epoch 114/500\n",
            "6/6 [==============================] - 0s 333us/sample - loss: 4.2956e-06 - acc: 0.1667\n",
            "Epoch 115/500\n",
            "6/6 [==============================] - 0s 372us/sample - loss: 4.2077e-06 - acc: 0.1667\n",
            "Epoch 116/500\n",
            "6/6 [==============================] - 0s 336us/sample - loss: 4.1210e-06 - acc: 0.1667\n",
            "Epoch 117/500\n",
            "6/6 [==============================] - 0s 306us/sample - loss: 4.0364e-06 - acc: 0.1667\n",
            "Epoch 118/500\n",
            "6/6 [==============================] - 0s 298us/sample - loss: 3.9535e-06 - acc: 0.1667\n",
            "Epoch 119/500\n",
            "6/6 [==============================] - 0s 275us/sample - loss: 3.8723e-06 - acc: 0.1667\n",
            "Epoch 120/500\n",
            "6/6 [==============================] - 0s 285us/sample - loss: 3.7926e-06 - acc: 0.1667\n",
            "Epoch 121/500\n",
            "6/6 [==============================] - 0s 276us/sample - loss: 3.7150e-06 - acc: 0.1667\n",
            "Epoch 122/500\n",
            "6/6 [==============================] - 0s 229us/sample - loss: 3.6387e-06 - acc: 0.1667\n",
            "Epoch 123/500\n",
            "6/6 [==============================] - 0s 282us/sample - loss: 3.5639e-06 - acc: 0.1667\n",
            "Epoch 124/500\n",
            "6/6 [==============================] - 0s 282us/sample - loss: 3.4904e-06 - acc: 0.1667\n",
            "Epoch 125/500\n",
            "6/6 [==============================] - 0s 318us/sample - loss: 3.4189e-06 - acc: 0.1667\n",
            "Epoch 126/500\n",
            "6/6 [==============================] - 0s 408us/sample - loss: 3.3487e-06 - acc: 0.1667\n",
            "Epoch 127/500\n",
            "6/6 [==============================] - 0s 359us/sample - loss: 3.2799e-06 - acc: 0.1667\n",
            "Epoch 128/500\n",
            "6/6 [==============================] - 0s 285us/sample - loss: 3.2123e-06 - acc: 0.1667\n",
            "Epoch 129/500\n",
            "6/6 [==============================] - 0s 292us/sample - loss: 3.1464e-06 - acc: 0.1667\n",
            "Epoch 130/500\n",
            "6/6 [==============================] - 0s 321us/sample - loss: 3.0819e-06 - acc: 0.1667\n",
            "Epoch 131/500\n",
            "6/6 [==============================] - 0s 311us/sample - loss: 3.0183e-06 - acc: 0.1667\n",
            "Epoch 132/500\n",
            "6/6 [==============================] - 0s 257us/sample - loss: 2.9565e-06 - acc: 0.1667\n",
            "Epoch 133/500\n",
            "6/6 [==============================] - 0s 295us/sample - loss: 2.8957e-06 - acc: 0.1667\n",
            "Epoch 134/500\n",
            "6/6 [==============================] - 0s 292us/sample - loss: 2.8363e-06 - acc: 0.1667\n",
            "Epoch 135/500\n",
            "6/6 [==============================] - 0s 294us/sample - loss: 2.7781e-06 - acc: 0.1667\n",
            "Epoch 136/500\n",
            "6/6 [==============================] - 0s 335us/sample - loss: 2.7210e-06 - acc: 0.1667\n",
            "Epoch 137/500\n",
            "6/6 [==============================] - 0s 295us/sample - loss: 2.6652e-06 - acc: 0.1667\n",
            "Epoch 138/500\n",
            "6/6 [==============================] - 0s 290us/sample - loss: 2.6104e-06 - acc: 0.1667\n",
            "Epoch 139/500\n",
            "6/6 [==============================] - 0s 270us/sample - loss: 2.5568e-06 - acc: 0.1667\n",
            "Epoch 140/500\n",
            "6/6 [==============================] - 0s 332us/sample - loss: 2.5041e-06 - acc: 0.1667\n",
            "Epoch 141/500\n",
            "6/6 [==============================] - 0s 409us/sample - loss: 2.4527e-06 - acc: 0.1667\n",
            "Epoch 142/500\n",
            "6/6 [==============================] - 0s 284us/sample - loss: 2.4023e-06 - acc: 0.1667\n",
            "Epoch 143/500\n",
            "6/6 [==============================] - 0s 297us/sample - loss: 2.3531e-06 - acc: 0.1667\n",
            "Epoch 144/500\n",
            "6/6 [==============================] - 0s 290us/sample - loss: 2.3046e-06 - acc: 0.1667\n",
            "Epoch 145/500\n",
            "6/6 [==============================] - 0s 268us/sample - loss: 2.2573e-06 - acc: 0.1667\n",
            "Epoch 146/500\n",
            "6/6 [==============================] - 0s 268us/sample - loss: 2.2109e-06 - acc: 0.1667\n",
            "Epoch 147/500\n",
            "6/6 [==============================] - 0s 334us/sample - loss: 2.1655e-06 - acc: 0.1667\n",
            "Epoch 148/500\n",
            "6/6 [==============================] - 0s 385us/sample - loss: 2.1211e-06 - acc: 0.1667\n",
            "Epoch 149/500\n",
            "6/6 [==============================] - 0s 328us/sample - loss: 2.0774e-06 - acc: 0.1667\n",
            "Epoch 150/500\n",
            "6/6 [==============================] - 0s 338us/sample - loss: 2.0348e-06 - acc: 0.1667\n",
            "Epoch 151/500\n",
            "6/6 [==============================] - 0s 269us/sample - loss: 1.9931e-06 - acc: 0.1667\n",
            "Epoch 152/500\n",
            "6/6 [==============================] - 0s 441us/sample - loss: 1.9522e-06 - acc: 0.1667\n",
            "Epoch 153/500\n",
            "6/6 [==============================] - 0s 323us/sample - loss: 1.9118e-06 - acc: 0.1667\n",
            "Epoch 154/500\n",
            "6/6 [==============================] - 0s 298us/sample - loss: 1.8727e-06 - acc: 0.1667\n",
            "Epoch 155/500\n",
            "6/6 [==============================] - 0s 333us/sample - loss: 1.8343e-06 - acc: 0.1667\n",
            "Epoch 156/500\n",
            "6/6 [==============================] - 0s 238us/sample - loss: 1.7965e-06 - acc: 0.1667\n",
            "Epoch 157/500\n",
            "6/6 [==============================] - 0s 417us/sample - loss: 1.7595e-06 - acc: 0.1667\n",
            "Epoch 158/500\n",
            "6/6 [==============================] - 0s 351us/sample - loss: 1.7233e-06 - acc: 0.1667\n",
            "Epoch 159/500\n",
            "6/6 [==============================] - 0s 278us/sample - loss: 1.6881e-06 - acc: 0.1667\n",
            "Epoch 160/500\n",
            "6/6 [==============================] - 0s 346us/sample - loss: 1.6533e-06 - acc: 0.1667\n",
            "Epoch 161/500\n",
            "6/6 [==============================] - 0s 420us/sample - loss: 1.6193e-06 - acc: 0.1667\n",
            "Epoch 162/500\n",
            "6/6 [==============================] - 0s 320us/sample - loss: 1.5861e-06 - acc: 0.1667\n",
            "Epoch 163/500\n",
            "6/6 [==============================] - 0s 348us/sample - loss: 1.5536e-06 - acc: 0.1667\n",
            "Epoch 164/500\n",
            "6/6 [==============================] - 0s 251us/sample - loss: 1.5216e-06 - acc: 0.1667\n",
            "Epoch 165/500\n",
            "6/6 [==============================] - 0s 211us/sample - loss: 1.4903e-06 - acc: 0.1667\n",
            "Epoch 166/500\n",
            "6/6 [==============================] - 0s 295us/sample - loss: 1.4598e-06 - acc: 0.1667\n",
            "Epoch 167/500\n",
            "6/6 [==============================] - 0s 402us/sample - loss: 1.4297e-06 - acc: 0.1667\n",
            "Epoch 168/500\n",
            "6/6 [==============================] - 0s 409us/sample - loss: 1.4005e-06 - acc: 0.1667\n",
            "Epoch 169/500\n",
            "6/6 [==============================] - 0s 333us/sample - loss: 1.3717e-06 - acc: 0.1667\n",
            "Epoch 170/500\n",
            "6/6 [==============================] - 0s 408us/sample - loss: 1.3435e-06 - acc: 0.1667\n",
            "Epoch 171/500\n",
            "6/6 [==============================] - 0s 341us/sample - loss: 1.3158e-06 - acc: 0.1667\n",
            "Epoch 172/500\n",
            "6/6 [==============================] - 0s 284us/sample - loss: 1.2888e-06 - acc: 0.1667\n",
            "Epoch 173/500\n",
            "6/6 [==============================] - 0s 276us/sample - loss: 1.2624e-06 - acc: 0.1667\n",
            "Epoch 174/500\n",
            "6/6 [==============================] - 0s 426us/sample - loss: 1.2365e-06 - acc: 0.1667\n",
            "Epoch 175/500\n",
            "6/6 [==============================] - 0s 296us/sample - loss: 1.2110e-06 - acc: 0.1667\n",
            "Epoch 176/500\n",
            "6/6 [==============================] - 0s 327us/sample - loss: 1.1862e-06 - acc: 0.1667\n",
            "Epoch 177/500\n",
            "6/6 [==============================] - 0s 314us/sample - loss: 1.1618e-06 - acc: 0.1667\n",
            "Epoch 178/500\n",
            "6/6 [==============================] - 0s 327us/sample - loss: 1.1381e-06 - acc: 0.1667\n",
            "Epoch 179/500\n",
            "6/6 [==============================] - 0s 332us/sample - loss: 1.1147e-06 - acc: 0.1667\n",
            "Epoch 180/500\n",
            "6/6 [==============================] - 0s 281us/sample - loss: 1.0918e-06 - acc: 0.1667\n",
            "Epoch 181/500\n",
            "6/6 [==============================] - 0s 332us/sample - loss: 1.0693e-06 - acc: 0.1667\n",
            "Epoch 182/500\n",
            "6/6 [==============================] - 0s 406us/sample - loss: 1.0473e-06 - acc: 0.1667\n",
            "Epoch 183/500\n",
            "6/6 [==============================] - 0s 361us/sample - loss: 1.0258e-06 - acc: 0.1667\n",
            "Epoch 184/500\n",
            "6/6 [==============================] - 0s 409us/sample - loss: 1.0048e-06 - acc: 0.1667\n",
            "Epoch 185/500\n",
            "6/6 [==============================] - 0s 365us/sample - loss: 9.8421e-07 - acc: 0.1667\n",
            "Epoch 186/500\n",
            "6/6 [==============================] - 0s 330us/sample - loss: 9.6391e-07 - acc: 0.1667\n",
            "Epoch 187/500\n",
            "6/6 [==============================] - 0s 333us/sample - loss: 9.4417e-07 - acc: 0.1667\n",
            "Epoch 188/500\n",
            "6/6 [==============================] - 0s 411us/sample - loss: 9.2475e-07 - acc: 0.1667\n",
            "Epoch 189/500\n",
            "6/6 [==============================] - 0s 437us/sample - loss: 9.0570e-07 - acc: 0.1667\n",
            "Epoch 190/500\n",
            "6/6 [==============================] - 0s 410us/sample - loss: 8.8710e-07 - acc: 0.1667\n",
            "Epoch 191/500\n",
            "6/6 [==============================] - 0s 411us/sample - loss: 8.6897e-07 - acc: 0.1667\n",
            "Epoch 192/500\n",
            "6/6 [==============================] - 0s 411us/sample - loss: 8.5107e-07 - acc: 0.1667\n",
            "Epoch 193/500\n",
            "6/6 [==============================] - 0s 300us/sample - loss: 8.3359e-07 - acc: 0.1667\n",
            "Epoch 194/500\n",
            "6/6 [==============================] - 0s 414us/sample - loss: 8.1655e-07 - acc: 0.1667\n",
            "Epoch 195/500\n",
            "6/6 [==============================] - 0s 184us/sample - loss: 7.9987e-07 - acc: 0.1667\n",
            "Epoch 196/500\n",
            "6/6 [==============================] - 0s 197us/sample - loss: 7.8335e-07 - acc: 0.1667\n",
            "Epoch 197/500\n",
            "6/6 [==============================] - 0s 274us/sample - loss: 7.6735e-07 - acc: 0.1667\n",
            "Epoch 198/500\n",
            "6/6 [==============================] - 0s 278us/sample - loss: 7.5147e-07 - acc: 0.1667\n",
            "Epoch 199/500\n",
            "6/6 [==============================] - 0s 215us/sample - loss: 7.3617e-07 - acc: 0.1667\n",
            "Epoch 200/500\n",
            "6/6 [==============================] - 0s 291us/sample - loss: 7.2102e-07 - acc: 0.1667\n",
            "Epoch 201/500\n",
            "6/6 [==============================] - 0s 296us/sample - loss: 7.0613e-07 - acc: 0.1667\n",
            "Epoch 202/500\n",
            "6/6 [==============================] - 0s 329us/sample - loss: 6.9170e-07 - acc: 0.1667\n",
            "Epoch 203/500\n",
            "6/6 [==============================] - 0s 481us/sample - loss: 6.7739e-07 - acc: 0.1667\n",
            "Epoch 204/500\n",
            "6/6 [==============================] - 0s 374us/sample - loss: 6.6352e-07 - acc: 0.1667\n",
            "Epoch 205/500\n",
            "6/6 [==============================] - 0s 302us/sample - loss: 6.4989e-07 - acc: 0.1667\n",
            "Epoch 206/500\n",
            "6/6 [==============================] - 0s 295us/sample - loss: 6.3641e-07 - acc: 0.1667\n",
            "Epoch 207/500\n",
            "6/6 [==============================] - 0s 310us/sample - loss: 6.2345e-07 - acc: 0.1667\n",
            "Epoch 208/500\n",
            "6/6 [==============================] - 0s 304us/sample - loss: 6.1057e-07 - acc: 0.1667\n",
            "Epoch 209/500\n",
            "6/6 [==============================] - 0s 387us/sample - loss: 5.9813e-07 - acc: 0.1667\n",
            "Epoch 210/500\n",
            "6/6 [==============================] - 0s 279us/sample - loss: 5.8582e-07 - acc: 0.1667\n",
            "Epoch 211/500\n",
            "6/6 [==============================] - 0s 322us/sample - loss: 5.7378e-07 - acc: 0.1667\n",
            "Epoch 212/500\n",
            "6/6 [==============================] - 0s 367us/sample - loss: 5.6188e-07 - acc: 0.1667\n",
            "Epoch 213/500\n",
            "6/6 [==============================] - 0s 356us/sample - loss: 5.5045e-07 - acc: 0.1667\n",
            "Epoch 214/500\n",
            "6/6 [==============================] - 0s 281us/sample - loss: 5.3918e-07 - acc: 0.1667\n",
            "Epoch 215/500\n",
            "6/6 [==============================] - 0s 278us/sample - loss: 5.2806e-07 - acc: 0.1667\n",
            "Epoch 216/500\n",
            "6/6 [==============================] - 0s 347us/sample - loss: 5.1725e-07 - acc: 0.1667\n",
            "Epoch 217/500\n",
            "6/6 [==============================] - 0s 302us/sample - loss: 5.0660e-07 - acc: 0.1667\n",
            "Epoch 218/500\n",
            "6/6 [==============================] - 0s 381us/sample - loss: 4.9617e-07 - acc: 0.1667\n",
            "Epoch 219/500\n",
            "6/6 [==============================] - 0s 460us/sample - loss: 4.8601e-07 - acc: 0.1667\n",
            "Epoch 220/500\n",
            "6/6 [==============================] - 0s 269us/sample - loss: 4.7601e-07 - acc: 0.1667\n",
            "Epoch 221/500\n",
            "6/6 [==============================] - 0s 271us/sample - loss: 4.6619e-07 - acc: 0.1667\n",
            "Epoch 222/500\n",
            "6/6 [==============================] - 0s 210us/sample - loss: 4.5668e-07 - acc: 0.1667\n",
            "Epoch 223/500\n",
            "6/6 [==============================] - 0s 334us/sample - loss: 4.4722e-07 - acc: 0.1667\n",
            "Epoch 224/500\n",
            "6/6 [==============================] - 0s 389us/sample - loss: 4.3813e-07 - acc: 0.1667\n",
            "Epoch 225/500\n",
            "6/6 [==============================] - 0s 289us/sample - loss: 4.2914e-07 - acc: 0.1667\n",
            "Epoch 226/500\n",
            "6/6 [==============================] - 0s 330us/sample - loss: 4.2031e-07 - acc: 0.1667\n",
            "Epoch 227/500\n",
            "6/6 [==============================] - 0s 354us/sample - loss: 4.1171e-07 - acc: 0.1667\n",
            "Epoch 228/500\n",
            "6/6 [==============================] - 0s 269us/sample - loss: 4.0320e-07 - acc: 0.1667\n",
            "Epoch 229/500\n",
            "6/6 [==============================] - 0s 282us/sample - loss: 3.9494e-07 - acc: 0.1667\n",
            "Epoch 230/500\n",
            "6/6 [==============================] - 0s 325us/sample - loss: 3.8677e-07 - acc: 0.1667\n",
            "Epoch 231/500\n",
            "6/6 [==============================] - 0s 284us/sample - loss: 3.7887e-07 - acc: 0.1667\n",
            "Epoch 232/500\n",
            "6/6 [==============================] - 0s 260us/sample - loss: 3.7108e-07 - acc: 0.1667\n",
            "Epoch 233/500\n",
            "6/6 [==============================] - 0s 291us/sample - loss: 3.6345e-07 - acc: 0.1667\n",
            "Epoch 234/500\n",
            "6/6 [==============================] - 0s 422us/sample - loss: 3.5595e-07 - acc: 0.1667\n",
            "Epoch 235/500\n",
            "6/6 [==============================] - 0s 323us/sample - loss: 3.4870e-07 - acc: 0.1667\n",
            "Epoch 236/500\n",
            "6/6 [==============================] - 0s 292us/sample - loss: 3.4150e-07 - acc: 0.1667\n",
            "Epoch 237/500\n",
            "6/6 [==============================] - 0s 277us/sample - loss: 3.3450e-07 - acc: 0.1667\n",
            "Epoch 238/500\n",
            "6/6 [==============================] - 0s 322us/sample - loss: 3.2761e-07 - acc: 0.1667\n",
            "Epoch 239/500\n",
            "6/6 [==============================] - 0s 329us/sample - loss: 3.2092e-07 - acc: 0.1667\n",
            "Epoch 240/500\n",
            "6/6 [==============================] - 0s 286us/sample - loss: 3.1432e-07 - acc: 0.1667\n",
            "Epoch 241/500\n",
            "6/6 [==============================] - 0s 337us/sample - loss: 3.0785e-07 - acc: 0.1667\n",
            "Epoch 242/500\n",
            "6/6 [==============================] - 0s 334us/sample - loss: 3.0152e-07 - acc: 0.1667\n",
            "Epoch 243/500\n",
            "6/6 [==============================] - 0s 358us/sample - loss: 2.9539e-07 - acc: 0.1667\n",
            "Epoch 244/500\n",
            "6/6 [==============================] - 0s 281us/sample - loss: 2.8925e-07 - acc: 0.1667\n",
            "Epoch 245/500\n",
            "6/6 [==============================] - 0s 378us/sample - loss: 2.8339e-07 - acc: 0.1667\n",
            "Epoch 246/500\n",
            "6/6 [==============================] - 0s 315us/sample - loss: 2.7751e-07 - acc: 0.1667\n",
            "Epoch 247/500\n",
            "6/6 [==============================] - 0s 373us/sample - loss: 2.7182e-07 - acc: 0.1667\n",
            "Epoch 248/500\n",
            "6/6 [==============================] - 0s 280us/sample - loss: 2.6628e-07 - acc: 0.1667\n",
            "Epoch 249/500\n",
            "6/6 [==============================] - 0s 300us/sample - loss: 2.6080e-07 - acc: 0.1667\n",
            "Epoch 250/500\n",
            "6/6 [==============================] - 0s 237us/sample - loss: 2.5544e-07 - acc: 0.1667\n",
            "Epoch 251/500\n",
            "6/6 [==============================] - 0s 217us/sample - loss: 2.5023e-07 - acc: 0.1667\n",
            "Epoch 252/500\n",
            "6/6 [==============================] - 0s 207us/sample - loss: 2.4499e-07 - acc: 0.1667\n",
            "Epoch 253/500\n",
            "6/6 [==============================] - 0s 200us/sample - loss: 2.4000e-07 - acc: 0.1667\n",
            "Epoch 254/500\n",
            "6/6 [==============================] - 0s 200us/sample - loss: 2.3509e-07 - acc: 0.1667\n",
            "Epoch 255/500\n",
            "6/6 [==============================] - 0s 359us/sample - loss: 2.3025e-07 - acc: 0.1667\n",
            "Epoch 256/500\n",
            "6/6 [==============================] - 0s 395us/sample - loss: 2.2555e-07 - acc: 0.1667\n",
            "Epoch 257/500\n",
            "6/6 [==============================] - 0s 333us/sample - loss: 2.2083e-07 - acc: 0.1667\n",
            "Epoch 258/500\n",
            "6/6 [==============================] - 0s 455us/sample - loss: 2.1636e-07 - acc: 0.1667\n",
            "Epoch 259/500\n",
            "6/6 [==============================] - 0s 448us/sample - loss: 2.1186e-07 - acc: 0.1667\n",
            "Epoch 260/500\n",
            "6/6 [==============================] - 0s 366us/sample - loss: 2.0756e-07 - acc: 0.1667\n",
            "Epoch 261/500\n",
            "6/6 [==============================] - 0s 545us/sample - loss: 2.0329e-07 - acc: 0.1667\n",
            "Epoch 262/500\n",
            "6/6 [==============================] - 0s 424us/sample - loss: 1.9912e-07 - acc: 0.1667\n",
            "Epoch 263/500\n",
            "6/6 [==============================] - 0s 412us/sample - loss: 1.9502e-07 - acc: 0.1667\n",
            "Epoch 264/500\n",
            "6/6 [==============================] - 0s 373us/sample - loss: 1.9107e-07 - acc: 0.1667\n",
            "Epoch 265/500\n",
            "6/6 [==============================] - 0s 293us/sample - loss: 1.8713e-07 - acc: 0.1667\n",
            "Epoch 266/500\n",
            "6/6 [==============================] - 0s 210us/sample - loss: 1.8330e-07 - acc: 0.1667\n",
            "Epoch 267/500\n",
            "6/6 [==============================] - 0s 403us/sample - loss: 1.7957e-07 - acc: 0.1667\n",
            "Epoch 268/500\n",
            "6/6 [==============================] - 0s 414us/sample - loss: 1.7589e-07 - acc: 0.1667\n",
            "Epoch 269/500\n",
            "6/6 [==============================] - 0s 296us/sample - loss: 1.7228e-07 - acc: 0.1667\n",
            "Epoch 270/500\n",
            "6/6 [==============================] - 0s 282us/sample - loss: 1.6870e-07 - acc: 0.1667\n",
            "Epoch 271/500\n",
            "6/6 [==============================] - 0s 345us/sample - loss: 1.6526e-07 - acc: 0.1667\n",
            "Epoch 272/500\n",
            "6/6 [==============================] - 0s 303us/sample - loss: 1.6186e-07 - acc: 0.1667\n",
            "Epoch 273/500\n",
            "6/6 [==============================] - 0s 292us/sample - loss: 1.5858e-07 - acc: 0.1667\n",
            "Epoch 274/500\n",
            "6/6 [==============================] - 0s 372us/sample - loss: 1.5534e-07 - acc: 0.1667\n",
            "Epoch 275/500\n",
            "6/6 [==============================] - 0s 315us/sample - loss: 1.5214e-07 - acc: 0.1667\n",
            "Epoch 276/500\n",
            "6/6 [==============================] - 0s 441us/sample - loss: 1.4899e-07 - acc: 0.1667\n",
            "Epoch 277/500\n",
            "6/6 [==============================] - 0s 369us/sample - loss: 1.4594e-07 - acc: 0.1667\n",
            "Epoch 278/500\n",
            "6/6 [==============================] - 0s 308us/sample - loss: 1.4294e-07 - acc: 0.1667\n",
            "Epoch 279/500\n",
            "6/6 [==============================] - 0s 366us/sample - loss: 1.3997e-07 - acc: 0.1667\n",
            "Epoch 280/500\n",
            "6/6 [==============================] - 0s 332us/sample - loss: 1.3711e-07 - acc: 0.1667\n",
            "Epoch 281/500\n",
            "6/6 [==============================] - 0s 487us/sample - loss: 1.3425e-07 - acc: 0.1667\n",
            "Epoch 282/500\n",
            "6/6 [==============================] - 0s 488us/sample - loss: 1.3150e-07 - acc: 0.1667\n",
            "Epoch 283/500\n",
            "6/6 [==============================] - 0s 472us/sample - loss: 1.2880e-07 - acc: 0.1667\n",
            "Epoch 284/500\n",
            "6/6 [==============================] - 0s 419us/sample - loss: 1.2617e-07 - acc: 0.1667\n",
            "Epoch 285/500\n",
            "6/6 [==============================] - 0s 413us/sample - loss: 1.2356e-07 - acc: 0.1667\n",
            "Epoch 286/500\n",
            "6/6 [==============================] - 0s 363us/sample - loss: 1.2101e-07 - acc: 0.1667\n",
            "Epoch 287/500\n",
            "6/6 [==============================] - 0s 435us/sample - loss: 1.1856e-07 - acc: 0.1667\n",
            "Epoch 288/500\n",
            "6/6 [==============================] - 0s 414us/sample - loss: 1.1611e-07 - acc: 0.1667\n",
            "Epoch 289/500\n",
            "6/6 [==============================] - 0s 357us/sample - loss: 1.1374e-07 - acc: 0.1667\n",
            "Epoch 290/500\n",
            "6/6 [==============================] - 0s 319us/sample - loss: 1.1138e-07 - acc: 0.1667\n",
            "Epoch 291/500\n",
            "6/6 [==============================] - 0s 415us/sample - loss: 1.0908e-07 - acc: 0.1667\n",
            "Epoch 292/500\n",
            "6/6 [==============================] - 0s 278us/sample - loss: 1.0685e-07 - acc: 0.1667\n",
            "Epoch 293/500\n",
            "6/6 [==============================] - 0s 258us/sample - loss: 1.0470e-07 - acc: 0.1667\n",
            "Epoch 294/500\n",
            "6/6 [==============================] - 0s 280us/sample - loss: 1.0252e-07 - acc: 0.1667\n",
            "Epoch 295/500\n",
            "6/6 [==============================] - 0s 418us/sample - loss: 1.0046e-07 - acc: 0.1667\n",
            "Epoch 296/500\n",
            "6/6 [==============================] - 0s 401us/sample - loss: 9.8333e-08 - acc: 0.1667\n",
            "Epoch 297/500\n",
            "6/6 [==============================] - 0s 425us/sample - loss: 9.6306e-08 - acc: 0.1667\n",
            "Epoch 298/500\n",
            "6/6 [==============================] - 0s 277us/sample - loss: 9.4356e-08 - acc: 0.1667\n",
            "Epoch 299/500\n",
            "6/6 [==============================] - 0s 346us/sample - loss: 9.2417e-08 - acc: 0.1667\n",
            "Epoch 300/500\n",
            "6/6 [==============================] - 0s 295us/sample - loss: 9.0527e-08 - acc: 0.1667\n",
            "Epoch 301/500\n",
            "6/6 [==============================] - 0s 297us/sample - loss: 8.8663e-08 - acc: 0.1667\n",
            "Epoch 302/500\n",
            "6/6 [==============================] - 0s 276us/sample - loss: 8.6862e-08 - acc: 0.1667\n",
            "Epoch 303/500\n",
            "6/6 [==============================] - 0s 386us/sample - loss: 8.5097e-08 - acc: 0.1667\n",
            "Epoch 304/500\n",
            "6/6 [==============================] - 0s 330us/sample - loss: 8.3310e-08 - acc: 0.1667\n",
            "Epoch 305/500\n",
            "6/6 [==============================] - 0s 328us/sample - loss: 8.1590e-08 - acc: 0.1667\n",
            "Epoch 306/500\n",
            "6/6 [==============================] - 0s 272us/sample - loss: 7.9913e-08 - acc: 0.1667\n",
            "Epoch 307/500\n",
            "6/6 [==============================] - 0s 329us/sample - loss: 7.8292e-08 - acc: 0.1667\n",
            "Epoch 308/500\n",
            "6/6 [==============================] - 0s 422us/sample - loss: 7.6692e-08 - acc: 0.1667\n",
            "Epoch 309/500\n",
            "6/6 [==============================] - 0s 423us/sample - loss: 7.5118e-08 - acc: 0.1667\n",
            "Epoch 310/500\n",
            "6/6 [==============================] - 0s 339us/sample - loss: 7.3608e-08 - acc: 0.1667\n",
            "Epoch 311/500\n",
            "6/6 [==============================] - 0s 428us/sample - loss: 7.2067e-08 - acc: 0.1667\n",
            "Epoch 312/500\n",
            "6/6 [==============================] - 0s 273us/sample - loss: 7.0566e-08 - acc: 0.1667\n",
            "Epoch 313/500\n",
            "6/6 [==============================] - 0s 272us/sample - loss: 6.9126e-08 - acc: 0.1667\n",
            "Epoch 314/500\n",
            "6/6 [==============================] - 0s 266us/sample - loss: 6.7701e-08 - acc: 0.1667\n",
            "Epoch 315/500\n",
            "6/6 [==============================] - 0s 248us/sample - loss: 6.6307e-08 - acc: 0.1667\n",
            "Epoch 316/500\n",
            "6/6 [==============================] - 0s 224us/sample - loss: 6.4928e-08 - acc: 0.1667\n",
            "Epoch 317/500\n",
            "6/6 [==============================] - 0s 268us/sample - loss: 6.3646e-08 - acc: 0.1667\n",
            "Epoch 318/500\n",
            "6/6 [==============================] - 0s 216us/sample - loss: 6.2312e-08 - acc: 0.1667\n",
            "Epoch 319/500\n",
            "6/6 [==============================] - 0s 329us/sample - loss: 6.1072e-08 - acc: 0.1667\n",
            "Epoch 320/500\n",
            "6/6 [==============================] - 0s 329us/sample - loss: 5.9800e-08 - acc: 0.1667\n",
            "Epoch 321/500\n",
            "6/6 [==============================] - 0s 335us/sample - loss: 5.8549e-08 - acc: 0.1667\n",
            "Epoch 322/500\n",
            "6/6 [==============================] - 0s 247us/sample - loss: 5.7368e-08 - acc: 0.1667\n",
            "Epoch 323/500\n",
            "6/6 [==============================] - 0s 281us/sample - loss: 5.6198e-08 - acc: 0.1667\n",
            "Epoch 324/500\n",
            "6/6 [==============================] - 0s 369us/sample - loss: 5.5035e-08 - acc: 0.1667\n",
            "Epoch 325/500\n",
            "6/6 [==============================] - 0s 436us/sample - loss: 5.3905e-08 - acc: 0.1667\n",
            "Epoch 326/500\n",
            "6/6 [==============================] - 0s 415us/sample - loss: 5.2793e-08 - acc: 0.1667\n",
            "Epoch 327/500\n",
            "6/6 [==============================] - 0s 352us/sample - loss: 5.1707e-08 - acc: 0.1667\n",
            "Epoch 328/500\n",
            "6/6 [==============================] - 0s 436us/sample - loss: 5.0667e-08 - acc: 0.1667\n",
            "Epoch 329/500\n",
            "6/6 [==============================] - 0s 422us/sample - loss: 4.9610e-08 - acc: 0.1667\n",
            "Epoch 330/500\n",
            "6/6 [==============================] - 0s 413us/sample - loss: 4.8597e-08 - acc: 0.1667\n",
            "Epoch 331/500\n",
            "6/6 [==============================] - 0s 430us/sample - loss: 4.7614e-08 - acc: 0.1667\n",
            "Epoch 332/500\n",
            "6/6 [==============================] - 0s 430us/sample - loss: 4.6616e-08 - acc: 0.1667\n",
            "Epoch 333/500\n",
            "6/6 [==============================] - 0s 431us/sample - loss: 4.5679e-08 - acc: 0.1667\n",
            "Epoch 334/500\n",
            "6/6 [==============================] - 0s 397us/sample - loss: 4.4727e-08 - acc: 0.1667\n",
            "Epoch 335/500\n",
            "6/6 [==============================] - 0s 337us/sample - loss: 4.3815e-08 - acc: 0.1667\n",
            "Epoch 336/500\n",
            "6/6 [==============================] - 0s 425us/sample - loss: 4.2913e-08 - acc: 0.1667\n",
            "Epoch 337/500\n",
            "6/6 [==============================] - 0s 405us/sample - loss: 4.2050e-08 - acc: 0.1667\n",
            "Epoch 338/500\n",
            "6/6 [==============================] - 0s 275us/sample - loss: 4.1171e-08 - acc: 0.1667\n",
            "Epoch 339/500\n",
            "6/6 [==============================] - 0s 293us/sample - loss: 4.0341e-08 - acc: 0.1667\n",
            "Epoch 340/500\n",
            "6/6 [==============================] - 0s 275us/sample - loss: 3.9517e-08 - acc: 0.1667\n",
            "Epoch 341/500\n",
            "6/6 [==============================] - 0s 357us/sample - loss: 3.8709e-08 - acc: 0.1667\n",
            "Epoch 342/500\n",
            "6/6 [==============================] - 0s 416us/sample - loss: 3.7897e-08 - acc: 0.1667\n",
            "Epoch 343/500\n",
            "6/6 [==============================] - 0s 1ms/sample - loss: 3.7111e-08 - acc: 0.1667\n",
            "Epoch 344/500\n",
            "6/6 [==============================] - 0s 398us/sample - loss: 3.6368e-08 - acc: 0.1667\n",
            "Epoch 345/500\n",
            "6/6 [==============================] - 0s 433us/sample - loss: 3.5604e-08 - acc: 0.1667\n",
            "Epoch 346/500\n",
            "6/6 [==============================] - 0s 416us/sample - loss: 3.4880e-08 - acc: 0.1667\n",
            "Epoch 347/500\n",
            "6/6 [==============================] - 0s 278us/sample - loss: 3.4182e-08 - acc: 0.1667\n",
            "Epoch 348/500\n",
            "6/6 [==============================] - 0s 359us/sample - loss: 3.3478e-08 - acc: 0.1667\n",
            "Epoch 349/500\n",
            "6/6 [==============================] - 0s 450us/sample - loss: 3.2788e-08 - acc: 0.1667\n",
            "Epoch 350/500\n",
            "6/6 [==============================] - 0s 410us/sample - loss: 3.2105e-08 - acc: 0.1667\n",
            "Epoch 351/500\n",
            "6/6 [==============================] - 0s 421us/sample - loss: 3.1435e-08 - acc: 0.1667\n",
            "Epoch 352/500\n",
            "6/6 [==============================] - 0s 426us/sample - loss: 3.0813e-08 - acc: 0.1667\n",
            "Epoch 353/500\n",
            "6/6 [==============================] - 0s 274us/sample - loss: 3.0167e-08 - acc: 0.1667\n",
            "Epoch 354/500\n",
            "6/6 [==============================] - 0s 334us/sample - loss: 2.9539e-08 - acc: 0.1667\n",
            "Epoch 355/500\n",
            "6/6 [==============================] - 0s 333us/sample - loss: 2.8931e-08 - acc: 0.1667\n",
            "Epoch 356/500\n",
            "6/6 [==============================] - 0s 261us/sample - loss: 2.8367e-08 - acc: 0.1667\n",
            "Epoch 357/500\n",
            "6/6 [==============================] - 0s 406us/sample - loss: 2.7779e-08 - acc: 0.1667\n",
            "Epoch 358/500\n",
            "6/6 [==============================] - 0s 413us/sample - loss: 2.7194e-08 - acc: 0.1667\n",
            "Epoch 359/500\n",
            "6/6 [==============================] - 0s 408us/sample - loss: 2.6656e-08 - acc: 0.1667\n",
            "Epoch 360/500\n",
            "6/6 [==============================] - 0s 426us/sample - loss: 2.6114e-08 - acc: 0.1667\n",
            "Epoch 361/500\n",
            "6/6 [==============================] - 0s 419us/sample - loss: 2.5559e-08 - acc: 0.1667\n",
            "Epoch 362/500\n",
            "6/6 [==============================] - 0s 413us/sample - loss: 2.5033e-08 - acc: 0.1667\n",
            "Epoch 363/500\n",
            "6/6 [==============================] - 0s 433us/sample - loss: 2.4525e-08 - acc: 0.1667\n",
            "Epoch 364/500\n",
            "6/6 [==============================] - 0s 357us/sample - loss: 2.4024e-08 - acc: 0.1667\n",
            "Epoch 365/500\n",
            "6/6 [==============================] - 0s 268us/sample - loss: 2.3519e-08 - acc: 0.1667\n",
            "Epoch 366/500\n",
            "6/6 [==============================] - 0s 348us/sample - loss: 2.3022e-08 - acc: 0.1667\n",
            "Epoch 367/500\n",
            "6/6 [==============================] - 0s 330us/sample - loss: 2.2565e-08 - acc: 0.1667\n",
            "Epoch 368/500\n",
            "6/6 [==============================] - 0s 293us/sample - loss: 2.2095e-08 - acc: 0.1667\n",
            "Epoch 369/500\n",
            "6/6 [==============================] - 0s 270us/sample - loss: 2.1642e-08 - acc: 0.1667\n",
            "Epoch 370/500\n",
            "6/6 [==============================] - 0s 257us/sample - loss: 2.1206e-08 - acc: 0.1667\n",
            "Epoch 371/500\n",
            "6/6 [==============================] - 0s 352us/sample - loss: 2.0771e-08 - acc: 0.1667\n",
            "Epoch 372/500\n",
            "6/6 [==============================] - 0s 247us/sample - loss: 2.0340e-08 - acc: 0.1667\n",
            "Epoch 373/500\n",
            "6/6 [==============================] - 0s 328us/sample - loss: 1.9939e-08 - acc: 0.1667\n",
            "Epoch 374/500\n",
            "6/6 [==============================] - 0s 312us/sample - loss: 1.9521e-08 - acc: 0.1667\n",
            "Epoch 375/500\n",
            "6/6 [==============================] - 0s 281us/sample - loss: 1.9136e-08 - acc: 0.1667\n",
            "Epoch 376/500\n",
            "6/6 [==============================] - 0s 335us/sample - loss: 1.8727e-08 - acc: 0.1667\n",
            "Epoch 377/500\n",
            "6/6 [==============================] - 0s 257us/sample - loss: 1.8359e-08 - acc: 0.1667\n",
            "Epoch 378/500\n",
            "6/6 [==============================] - 0s 269us/sample - loss: 1.7989e-08 - acc: 0.1667\n",
            "Epoch 379/500\n",
            "6/6 [==============================] - 0s 395us/sample - loss: 1.7611e-08 - acc: 0.1667\n",
            "Epoch 380/500\n",
            "6/6 [==============================] - 0s 296us/sample - loss: 1.7259e-08 - acc: 0.1667\n",
            "Epoch 381/500\n",
            "6/6 [==============================] - 0s 349us/sample - loss: 1.6904e-08 - acc: 0.1667\n",
            "Epoch 382/500\n",
            "6/6 [==============================] - 0s 312us/sample - loss: 1.6554e-08 - acc: 0.1667\n",
            "Epoch 383/500\n",
            "6/6 [==============================] - 0s 282us/sample - loss: 1.6211e-08 - acc: 0.1667\n",
            "Epoch 384/500\n",
            "6/6 [==============================] - 0s 280us/sample - loss: 1.5876e-08 - acc: 0.1667\n",
            "Epoch 385/500\n",
            "6/6 [==============================] - 0s 351us/sample - loss: 1.5544e-08 - acc: 0.1667\n",
            "Epoch 386/500\n",
            "6/6 [==============================] - 0s 249us/sample - loss: 1.5213e-08 - acc: 0.1667\n",
            "Epoch 387/500\n",
            "6/6 [==============================] - 0s 202us/sample - loss: 1.4912e-08 - acc: 0.1667\n",
            "Epoch 388/500\n",
            "6/6 [==============================] - 0s 197us/sample - loss: 1.4602e-08 - acc: 0.1667\n",
            "Epoch 389/500\n",
            "6/6 [==============================] - 0s 318us/sample - loss: 1.4310e-08 - acc: 0.1667\n",
            "Epoch 390/500\n",
            "6/6 [==============================] - 0s 416us/sample - loss: 1.4013e-08 - acc: 0.1667\n",
            "Epoch 391/500\n",
            "6/6 [==============================] - 0s 274us/sample - loss: 1.3747e-08 - acc: 0.1667\n",
            "Epoch 392/500\n",
            "6/6 [==============================] - 0s 328us/sample - loss: 1.3460e-08 - acc: 0.1667\n",
            "Epoch 393/500\n",
            "6/6 [==============================] - 0s 278us/sample - loss: 1.3172e-08 - acc: 0.1667\n",
            "Epoch 394/500\n",
            "6/6 [==============================] - 0s 266us/sample - loss: 1.2921e-08 - acc: 0.1667\n",
            "Epoch 395/500\n",
            "6/6 [==============================] - 0s 268us/sample - loss: 1.2650e-08 - acc: 0.1667\n",
            "Epoch 396/500\n",
            "6/6 [==============================] - 0s 397us/sample - loss: 1.2378e-08 - acc: 0.1667\n",
            "Epoch 397/500\n",
            "6/6 [==============================] - 0s 372us/sample - loss: 1.2131e-08 - acc: 0.1667\n",
            "Epoch 398/500\n",
            "6/6 [==============================] - 0s 338us/sample - loss: 1.1887e-08 - acc: 0.1667\n",
            "Epoch 399/500\n",
            "6/6 [==============================] - 0s 347us/sample - loss: 1.1649e-08 - acc: 0.1667\n",
            "Epoch 400/500\n",
            "6/6 [==============================] - 0s 309us/sample - loss: 1.1410e-08 - acc: 0.1667\n",
            "Epoch 401/500\n",
            "6/6 [==============================] - 0s 267us/sample - loss: 1.1186e-08 - acc: 0.1667\n",
            "Epoch 402/500\n",
            "6/6 [==============================] - 0s 262us/sample - loss: 1.0952e-08 - acc: 0.1667\n",
            "Epoch 403/500\n",
            "6/6 [==============================] - 0s 248us/sample - loss: 1.0732e-08 - acc: 0.1667\n",
            "Epoch 404/500\n",
            "6/6 [==============================] - 0s 410us/sample - loss: 1.0503e-08 - acc: 0.1667\n",
            "Epoch 405/500\n",
            "6/6 [==============================] - 0s 348us/sample - loss: 1.0288e-08 - acc: 0.1667\n",
            "Epoch 406/500\n",
            "6/6 [==============================] - 0s 377us/sample - loss: 1.0072e-08 - acc: 0.1667\n",
            "Epoch 407/500\n",
            "6/6 [==============================] - 0s 344us/sample - loss: 9.8622e-09 - acc: 0.1667\n",
            "Epoch 408/500\n",
            "6/6 [==============================] - 0s 391us/sample - loss: 9.6542e-09 - acc: 0.1667\n",
            "Epoch 409/500\n",
            "6/6 [==============================] - 0s 421us/sample - loss: 9.4683e-09 - acc: 0.1667\n",
            "Epoch 410/500\n",
            "6/6 [==============================] - 0s 408us/sample - loss: 9.2805e-09 - acc: 0.1667\n",
            "Epoch 411/500\n",
            "6/6 [==============================] - 0s 258us/sample - loss: 9.0762e-09 - acc: 0.1667\n",
            "Epoch 412/500\n",
            "6/6 [==============================] - 0s 352us/sample - loss: 8.8942e-09 - acc: 0.1667\n",
            "Epoch 413/500\n",
            "6/6 [==============================] - 0s 339us/sample - loss: 8.7129e-09 - acc: 0.1667\n",
            "Epoch 414/500\n",
            "6/6 [==============================] - 0s 281us/sample - loss: 8.5353e-09 - acc: 0.1667\n",
            "Epoch 415/500\n",
            "6/6 [==============================] - 0s 329us/sample - loss: 8.3611e-09 - acc: 0.1667\n",
            "Epoch 416/500\n",
            "6/6 [==============================] - 0s 288us/sample - loss: 8.1889e-09 - acc: 0.1667\n",
            "Epoch 417/500\n",
            "6/6 [==============================] - 0s 410us/sample - loss: 8.0167e-09 - acc: 0.1667\n",
            "Epoch 418/500\n",
            "6/6 [==============================] - 0s 353us/sample - loss: 7.8665e-09 - acc: 0.1667\n",
            "Epoch 419/500\n",
            "6/6 [==============================] - 0s 276us/sample - loss: 7.7123e-09 - acc: 0.1667\n",
            "Epoch 420/500\n",
            "6/6 [==============================] - 0s 462us/sample - loss: 7.5524e-09 - acc: 0.1667\n",
            "Epoch 421/500\n",
            "6/6 [==============================] - 0s 250us/sample - loss: 7.3898e-09 - acc: 0.1667\n",
            "Epoch 422/500\n",
            "6/6 [==============================] - 0s 215us/sample - loss: 7.2452e-09 - acc: 0.1667\n",
            "Epoch 423/500\n",
            "6/6 [==============================] - 0s 227us/sample - loss: 7.1025e-09 - acc: 0.1667\n",
            "Epoch 424/500\n",
            "6/6 [==============================] - 0s 399us/sample - loss: 6.9634e-09 - acc: 0.1667\n",
            "Epoch 425/500\n",
            "6/6 [==============================] - 0s 279us/sample - loss: 6.8086e-09 - acc: 0.1667\n",
            "Epoch 426/500\n",
            "6/6 [==============================] - 0s 333us/sample - loss: 6.6706e-09 - acc: 0.1667\n",
            "Epoch 427/500\n",
            "6/6 [==============================] - 0s 361us/sample - loss: 6.5413e-09 - acc: 0.1667\n",
            "Epoch 428/500\n",
            "6/6 [==============================] - 0s 219us/sample - loss: 6.4078e-09 - acc: 0.1667\n",
            "Epoch 429/500\n",
            "6/6 [==============================] - 0s 333us/sample - loss: 6.2789e-09 - acc: 0.1667\n",
            "Epoch 430/500\n",
            "6/6 [==============================] - 0s 331us/sample - loss: 6.1481e-09 - acc: 0.1667\n",
            "Epoch 431/500\n",
            "6/6 [==============================] - 0s 286us/sample - loss: 6.0261e-09 - acc: 0.1667\n",
            "Epoch 432/500\n",
            "6/6 [==============================] - 0s 405us/sample - loss: 5.8979e-09 - acc: 0.1667\n",
            "Epoch 433/500\n",
            "6/6 [==============================] - 0s 413us/sample - loss: 5.7760e-09 - acc: 0.1667\n",
            "Epoch 434/500\n",
            "6/6 [==============================] - 0s 330us/sample - loss: 5.6557e-09 - acc: 0.1667\n",
            "Epoch 435/500\n",
            "6/6 [==============================] - 0s 320us/sample - loss: 5.5493e-09 - acc: 0.1667\n",
            "Epoch 436/500\n",
            "6/6 [==============================] - 0s 331us/sample - loss: 5.4310e-09 - acc: 0.1667\n",
            "Epoch 437/500\n",
            "6/6 [==============================] - 0s 419us/sample - loss: 5.3186e-09 - acc: 0.1667\n",
            "Epoch 438/500\n",
            "6/6 [==============================] - 0s 418us/sample - loss: 5.2028e-09 - acc: 0.1667\n",
            "Epoch 439/500\n",
            "6/6 [==============================] - 0s 433us/sample - loss: 5.0882e-09 - acc: 0.1667\n",
            "Epoch 440/500\n",
            "6/6 [==============================] - 0s 277us/sample - loss: 4.9919e-09 - acc: 0.1667\n",
            "Epoch 441/500\n",
            "6/6 [==============================] - 0s 354us/sample - loss: 4.8913e-09 - acc: 0.1667\n",
            "Epoch 442/500\n",
            "6/6 [==============================] - 0s 308us/sample - loss: 4.7878e-09 - acc: 0.1667\n",
            "Epoch 443/500\n",
            "6/6 [==============================] - 0s 333us/sample - loss: 4.6905e-09 - acc: 0.1667\n",
            "Epoch 444/500\n",
            "6/6 [==============================] - 0s 271us/sample - loss: 4.5930e-09 - acc: 0.1667\n",
            "Epoch 445/500\n",
            "6/6 [==============================] - 0s 301us/sample - loss: 4.4888e-09 - acc: 0.1667\n",
            "Epoch 446/500\n",
            "6/6 [==============================] - 0s 278us/sample - loss: 4.4110e-09 - acc: 0.1667\n",
            "Epoch 447/500\n",
            "6/6 [==============================] - 0s 322us/sample - loss: 4.3198e-09 - acc: 0.1667\n",
            "Epoch 448/500\n",
            "6/6 [==============================] - 0s 236us/sample - loss: 4.2252e-09 - acc: 0.1667\n",
            "Epoch 449/500\n",
            "6/6 [==============================] - 0s 428us/sample - loss: 4.1497e-09 - acc: 0.1667\n",
            "Epoch 450/500\n",
            "6/6 [==============================] - 0s 417us/sample - loss: 4.0637e-09 - acc: 0.1667\n",
            "Epoch 451/500\n",
            "6/6 [==============================] - 0s 299us/sample - loss: 3.9769e-09 - acc: 0.1667\n",
            "Epoch 452/500\n",
            "6/6 [==============================] - 0s 362us/sample - loss: 3.8963e-09 - acc: 0.1667\n",
            "Epoch 453/500\n",
            "6/6 [==============================] - 0s 440us/sample - loss: 3.8145e-09 - acc: 0.1667\n",
            "Epoch 454/500\n",
            "6/6 [==============================] - 0s 399us/sample - loss: 3.7383e-09 - acc: 0.1667\n",
            "Epoch 455/500\n",
            "6/6 [==============================] - 0s 329us/sample - loss: 3.6690e-09 - acc: 0.1667\n",
            "Epoch 456/500\n",
            "6/6 [==============================] - 0s 424us/sample - loss: 3.5916e-09 - acc: 0.1667\n",
            "Epoch 457/500\n",
            "6/6 [==============================] - 0s 328us/sample - loss: 3.5097e-09 - acc: 0.1667\n",
            "Epoch 458/500\n",
            "6/6 [==============================] - 0s 370us/sample - loss: 3.4438e-09 - acc: 0.1667\n",
            "Epoch 459/500\n",
            "6/6 [==============================] - 0s 367us/sample - loss: 3.3809e-09 - acc: 0.1667\n",
            "Epoch 460/500\n",
            "6/6 [==============================] - 0s 421us/sample - loss: 3.3127e-09 - acc: 0.1667\n",
            "Epoch 461/500\n",
            "6/6 [==============================] - 0s 417us/sample - loss: 3.2489e-09 - acc: 0.1667\n",
            "Epoch 462/500\n",
            "6/6 [==============================] - 0s 280us/sample - loss: 3.1778e-09 - acc: 0.1667\n",
            "Epoch 463/500\n",
            "6/6 [==============================] - 0s 333us/sample - loss: 3.1118e-09 - acc: 0.1667\n",
            "Epoch 464/500\n",
            "6/6 [==============================] - 0s 278us/sample - loss: 3.0518e-09 - acc: 0.1667\n",
            "Epoch 465/500\n",
            "6/6 [==============================] - 0s 348us/sample - loss: 2.9907e-09 - acc: 0.1667\n",
            "Epoch 466/500\n",
            "6/6 [==============================] - 0s 327us/sample - loss: 2.9333e-09 - acc: 0.1667\n",
            "Epoch 467/500\n",
            "6/6 [==============================] - 0s 293us/sample - loss: 2.8733e-09 - acc: 0.1667\n",
            "Epoch 468/500\n",
            "6/6 [==============================] - 0s 389us/sample - loss: 2.8171e-09 - acc: 0.1667\n",
            "Epoch 469/500\n",
            "6/6 [==============================] - 0s 408us/sample - loss: 2.7583e-09 - acc: 0.1667\n",
            "Epoch 470/500\n",
            "6/6 [==============================] - 0s 339us/sample - loss: 2.7032e-09 - acc: 0.1667\n",
            "Epoch 471/500\n",
            "6/6 [==============================] - 0s 278us/sample - loss: 2.6456e-09 - acc: 0.1667\n",
            "Epoch 472/500\n",
            "6/6 [==============================] - 0s 409us/sample - loss: 2.5917e-09 - acc: 0.1667\n",
            "Epoch 473/500\n",
            "6/6 [==============================] - 0s 431us/sample - loss: 2.5367e-09 - acc: 0.1667\n",
            "Epoch 474/500\n",
            "6/6 [==============================] - 0s 396us/sample - loss: 2.4869e-09 - acc: 0.1667\n",
            "Epoch 475/500\n",
            "6/6 [==============================] - 0s 256us/sample - loss: 2.4417e-09 - acc: 0.1667\n",
            "Epoch 476/500\n",
            "6/6 [==============================] - 0s 332us/sample - loss: 2.3899e-09 - acc: 0.1667\n",
            "Epoch 477/500\n",
            "6/6 [==============================] - 0s 291us/sample - loss: 2.3418e-09 - acc: 0.1667\n",
            "Epoch 478/500\n",
            "6/6 [==============================] - 0s 267us/sample - loss: 2.2894e-09 - acc: 0.1667\n",
            "Epoch 479/500\n",
            "6/6 [==============================] - 0s 297us/sample - loss: 2.2425e-09 - acc: 0.1667\n",
            "Epoch 480/500\n",
            "6/6 [==============================] - 0s 387us/sample - loss: 2.1992e-09 - acc: 0.1667\n",
            "Epoch 481/500\n",
            "6/6 [==============================] - 0s 447us/sample - loss: 2.1487e-09 - acc: 0.1667\n",
            "Epoch 482/500\n",
            "6/6 [==============================] - 0s 418us/sample - loss: 2.1029e-09 - acc: 0.1667\n",
            "Epoch 483/500\n",
            "6/6 [==============================] - 0s 430us/sample - loss: 2.0643e-09 - acc: 0.1667\n",
            "Epoch 484/500\n",
            "6/6 [==============================] - 0s 390us/sample - loss: 2.0180e-09 - acc: 0.1667\n",
            "Epoch 485/500\n",
            "6/6 [==============================] - 0s 332us/sample - loss: 1.9803e-09 - acc: 0.1667\n",
            "Epoch 486/500\n",
            "6/6 [==============================] - 0s 262us/sample - loss: 1.9374e-09 - acc: 0.1667\n",
            "Epoch 487/500\n",
            "6/6 [==============================] - 0s 357us/sample - loss: 1.9005e-09 - acc: 0.1667\n",
            "Epoch 488/500\n",
            "6/6 [==============================] - 0s 296us/sample - loss: 1.8628e-09 - acc: 0.1667\n",
            "Epoch 489/500\n",
            "6/6 [==============================] - 0s 296us/sample - loss: 1.8176e-09 - acc: 0.1667\n",
            "Epoch 490/500\n",
            "6/6 [==============================] - 0s 278us/sample - loss: 1.7833e-09 - acc: 0.1667\n",
            "Epoch 491/500\n",
            "6/6 [==============================] - 0s 249us/sample - loss: 1.7476e-09 - acc: 0.1667\n",
            "Epoch 492/500\n",
            "6/6 [==============================] - 0s 293us/sample - loss: 1.7118e-09 - acc: 0.1667\n",
            "Epoch 493/500\n",
            "6/6 [==============================] - 0s 384us/sample - loss: 1.6748e-09 - acc: 0.1667\n",
            "Epoch 494/500\n",
            "6/6 [==============================] - 0s 284us/sample - loss: 1.6413e-09 - acc: 0.1667\n",
            "Epoch 495/500\n",
            "6/6 [==============================] - 0s 362us/sample - loss: 1.6113e-09 - acc: 0.1667\n",
            "Epoch 496/500\n",
            "6/6 [==============================] - 0s 412us/sample - loss: 1.5772e-09 - acc: 0.1667\n",
            "Epoch 497/500\n",
            "6/6 [==============================] - 0s 280us/sample - loss: 1.5454e-09 - acc: 0.1667\n",
            "Epoch 498/500\n",
            "6/6 [==============================] - 0s 335us/sample - loss: 1.5128e-09 - acc: 0.1667\n",
            "Epoch 499/500\n",
            "6/6 [==============================] - 0s 400us/sample - loss: 1.4823e-09 - acc: 0.1667\n",
            "Epoch 500/500\n",
            "6/6 [==============================] - 0s 396us/sample - loss: 1.4489e-09 - acc: 0.1667\n"
          ],
          "name": "stdout"
        },
        {
          "output_type": "execute_result",
          "data": {
            "text/plain": [
              "<tensorflow.python.keras.callbacks.History at 0x7fa3c4a4e748>"
            ]
          },
          "metadata": {
            "tags": []
          },
          "execution_count": 14
        }
      ]
    },
    {
      "cell_type": "markdown",
      "metadata": {
        "id": "M4S2EdjkNA12",
        "colab_type": "text"
      },
      "source": [
        "This model has now learned how x and y are related. We can now use it to predict Y for a known X value and print the results"
      ]
    },
    {
      "cell_type": "code",
      "metadata": {
        "id": "tzcvmEu9NOP5",
        "colab_type": "code",
        "colab": {
          "base_uri": "https://localhost:8080/",
          "height": 35
        },
        "outputId": "b56d24e8-8b65-42ee-82c0-baf109f54be8"
      },
      "source": [
        "print(model.predict(([10.0])))"
      ],
      "execution_count": 15,
      "outputs": [
        {
          "output_type": "stream",
          "text": [
            "[[18.999887]]\n"
          ],
          "name": "stdout"
        }
      ]
    },
    {
      "cell_type": "markdown",
      "metadata": {
        "id": "PxCtg8RnOOeL",
        "colab_type": "text"
      },
      "source": [
        "## **02. Simple Image Recognition using Fashion MNIST data**"
      ]
    },
    {
      "cell_type": "markdown",
      "metadata": {
        "id": "OI9IBQ-9PhR_",
        "colab_type": "text"
      },
      "source": [
        "Recognize 10 different items of clothing using Fashion MNIST data"
      ]
    },
    {
      "cell_type": "code",
      "metadata": {
        "id": "IKusIqfROd45",
        "colab_type": "code",
        "colab": {
          "base_uri": "https://localhost:8080/",
          "height": 35
        },
        "outputId": "d4f90c8a-5d64-48b8-dbc0-5162c432b044"
      },
      "source": [
        "import tensorflow as tf\n",
        "print(tf.__version__)\n",
        "import matplotlib.pyplot as plt"
      ],
      "execution_count": 22,
      "outputs": [
        {
          "output_type": "stream",
          "text": [
            "1.15.0\n"
          ],
          "name": "stdout"
        }
      ]
    },
    {
      "cell_type": "code",
      "metadata": {
        "id": "1D3SuZ0HU1Fp",
        "colab_type": "code",
        "colab": {}
      },
      "source": [
        "mnist = tf.keras.datasets.fashion_mnist #Fashion MNIST data is available in tf.keras API"
      ],
      "execution_count": 0,
      "outputs": []
    },
    {
      "cell_type": "code",
      "metadata": {
        "id": "bEAcMPK8VEvn",
        "colab_type": "code",
        "colab": {
          "base_uri": "https://localhost:8080/",
          "height": 161
        },
        "outputId": "3cf52dbe-82b6-49af-e994-2dc60b5e74a5"
      },
      "source": [
        "(training_images, training_labels), (test_images, test_labels) = mnist.load_data() #Split into train and test data"
      ],
      "execution_count": 19,
      "outputs": [
        {
          "output_type": "stream",
          "text": [
            "Downloading data from https://storage.googleapis.com/tensorflow/tf-keras-datasets/train-labels-idx1-ubyte.gz\n",
            "32768/29515 [=================================] - 0s 0us/step\n",
            "Downloading data from https://storage.googleapis.com/tensorflow/tf-keras-datasets/train-images-idx3-ubyte.gz\n",
            "26427392/26421880 [==============================] - 0s 0us/step\n",
            "Downloading data from https://storage.googleapis.com/tensorflow/tf-keras-datasets/t10k-labels-idx1-ubyte.gz\n",
            "8192/5148 [===============================================] - 0s 0us/step\n",
            "Downloading data from https://storage.googleapis.com/tensorflow/tf-keras-datasets/t10k-images-idx3-ubyte.gz\n",
            "4423680/4422102 [==============================] - 0s 0us/step\n"
          ],
          "name": "stdout"
        }
      ]
    },
    {
      "cell_type": "code",
      "metadata": {
        "id": "MX-VJi29VcYA",
        "colab_type": "code",
        "colab": {
          "base_uri": "https://localhost:8080/",
          "height": 283
        },
        "outputId": "47963b72-c9e4-41ae-aa0e-1dcb6f3e1389"
      },
      "source": [
        "plt.imshow(training_images[0]) #print the training image"
      ],
      "execution_count": 23,
      "outputs": [
        {
          "output_type": "execute_result",
          "data": {
            "text/plain": [
              "<matplotlib.image.AxesImage at 0x7fa3ac5ebba8>"
            ]
          },
          "metadata": {
            "tags": []
          },
          "execution_count": 23
        },
        {
          "output_type": "display_data",
          "data": {
            "image/png": "[encoded data removed]",
            "text/plain": [
              "<Figure size 432x288 with 1 Axes>"
            ]
          },
          "metadata": {
            "tags": []
          }
        }
      ]
    },
    {
      "cell_type": "code",
      "metadata": {
        "id": "JwaEY_LTV8lk",
        "colab_type": "code",
        "colab": {
          "base_uri": "https://localhost:8080/",
          "height": 35
        },
        "outputId": "11a3d99c-bc0f-48ac-8f40-76fda23a40ac"
      },
      "source": [
        "print(training_labels[0]) #Label of image"
      ],
      "execution_count": 26,
      "outputs": [
        {
          "output_type": "stream",
          "text": [
            "9\n"
          ],
          "name": "stdout"
        }
      ]
    },
    {
      "cell_type": "code",
      "metadata": {
        "id": "xtyhH-5_WEyD",
        "colab_type": "code",
        "colab": {
          "base_uri": "https://localhost:8080/",
          "height": 1000
        },
        "outputId": "3c929ab9-1d7c-429e-944f-10dfd5e3689d"
      },
      "source": [
        "print(training_images[0]) #Print the image itself in pixels 0 to 255"
      ],
      "execution_count": 28,
      "outputs": [
        {
          "output_type": "stream",
          "text": [
            "[[  0   0   0   0   0   0   0   0   0   0   0   0   0   0   0   0   0   0\n",
            "    0   0   0   0   0   0   0   0   0   0]\n",
            " [  0   0   0   0   0   0   0   0   0   0   0   0   0   0   0   0   0   0\n",
            "    0   0   0   0   0   0   0   0   0   0]\n",
            " [  0   0   0   0   0   0   0   0   0   0   0   0   0   0   0   0   0   0\n",
            "    0   0   0   0   0   0   0   0   0   0]\n",
            " [  0   0   0   0   0   0   0   0   0   0   0   0   1   0   0  13  73   0\n",
            "    0   1   4   0   0   0   0   1   1   0]\n",
            " [  0   0   0   0   0   0   0   0   0   0   0   0   3   0  36 136 127  62\n",
            "   54   0   0   0   1   3   4   0   0   3]\n",
            " [  0   0   0   0   0   0   0   0   0   0   0   0   6   0 102 204 176 134\n",
            "  144 123  23   0   0   0   0  12  10   0]\n",
            " [  0   0   0   0   0   0   0   0   0   0   0   0   0   0 155 236 207 178\n",
            "  107 156 161 109  64  23  77 130  72  15]\n",
            " [  0   0   0   0   0   0   0   0   0   0   0   1   0  69 207 223 218 216\n",
            "  216 163 127 121 122 146 141  88 172  66]\n",
            " [  0   0   0   0   0   0   0   0   0   1   1   1   0 200 232 232 233 229\n",
            "  223 223 215 213 164 127 123 196 229   0]\n",
            " [  0   0   0   0   0   0   0   0   0   0   0   0   0 183 225 216 223 228\n",
            "  235 227 224 222 224 221 223 245 173   0]\n",
            " [  0   0   0   0   0   0   0   0   0   0   0   0   0 193 228 218 213 198\n",
            "  180 212 210 211 213 223 220 243 202   0]\n",
            " [  0   0   0   0   0   0   0   0   0   1   3   0  12 219 220 212 218 192\n",
            "  169 227 208 218 224 212 226 197 209  52]\n",
            " [  0   0   0   0   0   0   0   0   0   0   6   0  99 244 222 220 218 203\n",
            "  198 221 215 213 222 220 245 119 167  56]\n",
            " [  0   0   0   0   0   0   0   0   0   4   0   0  55 236 228 230 228 240\n",
            "  232 213 218 223 234 217 217 209  92   0]\n",
            " [  0   0   1   4   6   7   2   0   0   0   0   0 237 226 217 223 222 219\n",
            "  222 221 216 223 229 215 218 255  77   0]\n",
            " [  0   3   0   0   0   0   0   0   0  62 145 204 228 207 213 221 218 208\n",
            "  211 218 224 223 219 215 224 244 159   0]\n",
            " [  0   0   0   0  18  44  82 107 189 228 220 222 217 226 200 205 211 230\n",
            "  224 234 176 188 250 248 233 238 215   0]\n",
            " [  0  57 187 208 224 221 224 208 204 214 208 209 200 159 245 193 206 223\n",
            "  255 255 221 234 221 211 220 232 246   0]\n",
            " [  3 202 228 224 221 211 211 214 205 205 205 220 240  80 150 255 229 221\n",
            "  188 154 191 210 204 209 222 228 225   0]\n",
            " [ 98 233 198 210 222 229 229 234 249 220 194 215 217 241  65  73 106 117\n",
            "  168 219 221 215 217 223 223 224 229  29]\n",
            " [ 75 204 212 204 193 205 211 225 216 185 197 206 198 213 240 195 227 245\n",
            "  239 223 218 212 209 222 220 221 230  67]\n",
            " [ 48 203 183 194 213 197 185 190 194 192 202 214 219 221 220 236 225 216\n",
            "  199 206 186 181 177 172 181 205 206 115]\n",
            " [  0 122 219 193 179 171 183 196 204 210 213 207 211 210 200 196 194 191\n",
            "  195 191 198 192 176 156 167 177 210  92]\n",
            " [  0   0  74 189 212 191 175 172 175 181 185 188 189 188 193 198 204 209\n",
            "  210 210 211 188 188 194 192 216 170   0]\n",
            " [  2   0   0   0  66 200 222 237 239 242 246 243 244 221 220 193 191 179\n",
            "  182 182 181 176 166 168  99  58   0   0]\n",
            " [  0   0   0   0   0   0   0  40  61  44  72  41  35   0   0   0   0   0\n",
            "    0   0   0   0   0   0   0   0   0   0]\n",
            " [  0   0   0   0   0   0   0   0   0   0   0   0   0   0   0   0   0   0\n",
            "    0   0   0   0   0   0   0   0   0   0]\n",
            " [  0   0   0   0   0   0   0   0   0   0   0   0   0   0   0   0   0   0\n",
            "    0   0   0   0   0   0   0   0   0   0]]\n"
          ],
          "name": "stdout"
        }
      ]
    },
    {
      "cell_type": "code",
      "metadata": {
        "id": "1W17gTCcWVEr",
        "colab_type": "code",
        "colab": {
          "base_uri": "https://localhost:8080/",
          "height": 1000
        },
        "outputId": "6d17e21f-bd5b-4d2f-f099-591a8f74a9bb"
      },
      "source": [
        "#Normalize the values from 0 to 255 -> 0 to 1 so that it's easier for the NN to understand \n",
        "training_images = training_images/255.0\n",
        "test_images = test_images/255.0\n",
        "print(training_images[0])"
      ],
      "execution_count": 30,
      "outputs": [
        {
          "output_type": "stream",
          "text": [
            "[[0.00000000e+00 0.00000000e+00 0.00000000e+00 0.00000000e+00\n",
            "  0.00000000e+00 0.00000000e+00 0.00000000e+00 0.00000000e+00\n",
            "  0.00000000e+00 0.00000000e+00 0.00000000e+00 0.00000000e+00\n",
            "  0.00000000e+00 0.00000000e+00 0.00000000e+00 0.00000000e+00\n",
            "  0.00000000e+00 0.00000000e+00 0.00000000e+00 0.00000000e+00\n",
            "  0.00000000e+00 0.00000000e+00 0.00000000e+00 0.00000000e+00\n",
            "  0.00000000e+00 0.00000000e+00 0.00000000e+00 0.00000000e+00]\n",
            " [0.00000000e+00 0.00000000e+00 0.00000000e+00 0.00000000e+00\n",
            "  0.00000000e+00 0.00000000e+00 0.00000000e+00 0.00000000e+00\n",
            "  0.00000000e+00 0.00000000e+00 0.00000000e+00 0.00000000e+00\n",
            "  0.00000000e+00 0.00000000e+00 0.00000000e+00 0.00000000e+00\n",
            "  0.00000000e+00 0.00000000e+00 0.00000000e+00 0.00000000e+00\n",
            "  0.00000000e+00 0.00000000e+00 0.00000000e+00 0.00000000e+00\n",
            "  0.00000000e+00 0.00000000e+00 0.00000000e+00 0.00000000e+00]\n",
            " [0.00000000e+00 0.00000000e+00 0.00000000e+00 0.00000000e+00\n",
            "  0.00000000e+00 0.00000000e+00 0.00000000e+00 0.00000000e+00\n",
            "  0.00000000e+00 0.00000000e+00 0.00000000e+00 0.00000000e+00\n",
            "  0.00000000e+00 0.00000000e+00 0.00000000e+00 0.00000000e+00\n",
            "  0.00000000e+00 0.00000000e+00 0.00000000e+00 0.00000000e+00\n",
            "  0.00000000e+00 0.00000000e+00 0.00000000e+00 0.00000000e+00\n",
            "  0.00000000e+00 0.00000000e+00 0.00000000e+00 0.00000000e+00]\n",
            " [0.00000000e+00 0.00000000e+00 0.00000000e+00 0.00000000e+00\n",
            "  0.00000000e+00 0.00000000e+00 0.00000000e+00 0.00000000e+00\n",
            "  0.00000000e+00 0.00000000e+00 0.00000000e+00 0.00000000e+00\n",
            "  1.53787005e-05 0.00000000e+00 0.00000000e+00 1.99923106e-04\n",
            "  1.12264514e-03 0.00000000e+00 0.00000000e+00 1.53787005e-05\n",
            "  6.15148020e-05 0.00000000e+00 0.00000000e+00 0.00000000e+00\n",
            "  0.00000000e+00 1.53787005e-05 1.53787005e-05 0.00000000e+00]\n",
            " [0.00000000e+00 0.00000000e+00 0.00000000e+00 0.00000000e+00\n",
            "  0.00000000e+00 0.00000000e+00 0.00000000e+00 0.00000000e+00\n",
            "  0.00000000e+00 0.00000000e+00 0.00000000e+00 0.00000000e+00\n",
            "  4.61361015e-05 0.00000000e+00 5.53633218e-04 2.09150327e-03\n",
            "  1.95309496e-03 9.53479431e-04 8.30449827e-04 0.00000000e+00\n",
            "  0.00000000e+00 0.00000000e+00 1.53787005e-05 4.61361015e-05\n",
            "  6.15148020e-05 0.00000000e+00 0.00000000e+00 4.61361015e-05]\n",
            " [0.00000000e+00 0.00000000e+00 0.00000000e+00 0.00000000e+00\n",
            "  0.00000000e+00 0.00000000e+00 0.00000000e+00 0.00000000e+00\n",
            "  0.00000000e+00 0.00000000e+00 0.00000000e+00 0.00000000e+00\n",
            "  9.22722030e-05 0.00000000e+00 1.56862745e-03 3.13725490e-03\n",
            "  2.70665129e-03 2.06074587e-03 2.21453287e-03 1.89158016e-03\n",
            "  3.53710111e-04 0.00000000e+00 0.00000000e+00 0.00000000e+00\n",
            "  0.00000000e+00 1.84544406e-04 1.53787005e-04 0.00000000e+00]\n",
            " [0.00000000e+00 0.00000000e+00 0.00000000e+00 0.00000000e+00\n",
            "  0.00000000e+00 0.00000000e+00 0.00000000e+00 0.00000000e+00\n",
            "  0.00000000e+00 0.00000000e+00 0.00000000e+00 0.00000000e+00\n",
            "  0.00000000e+00 0.00000000e+00 2.38369858e-03 3.62937332e-03\n",
            "  3.18339100e-03 2.73740869e-03 1.64552095e-03 2.39907728e-03\n",
            "  2.47597078e-03 1.67627835e-03 9.84236832e-04 3.53710111e-04\n",
            "  1.18415994e-03 1.99923106e-03 1.10726644e-03 2.30680507e-04]\n",
            " [0.00000000e+00 0.00000000e+00 0.00000000e+00 0.00000000e+00\n",
            "  0.00000000e+00 0.00000000e+00 0.00000000e+00 0.00000000e+00\n",
            "  0.00000000e+00 0.00000000e+00 0.00000000e+00 1.53787005e-05\n",
            "  0.00000000e+00 1.06113033e-03 3.18339100e-03 3.42945021e-03\n",
            "  3.35255671e-03 3.32179931e-03 3.32179931e-03 2.50672818e-03\n",
            "  1.95309496e-03 1.86082276e-03 1.87620146e-03 2.24529027e-03\n",
            "  2.16839677e-03 1.35332564e-03 2.64513649e-03 1.01499423e-03]\n",
            " [0.00000000e+00 0.00000000e+00 0.00000000e+00 0.00000000e+00\n",
            "  0.00000000e+00 0.00000000e+00 0.00000000e+00 0.00000000e+00\n",
            "  0.00000000e+00 1.53787005e-05 1.53787005e-05 1.53787005e-05\n",
            "  0.00000000e+00 3.07574010e-03 3.56785852e-03 3.56785852e-03\n",
            "  3.58323722e-03 3.52172241e-03 3.42945021e-03 3.42945021e-03\n",
            "  3.30642061e-03 3.27566321e-03 2.52210688e-03 1.95309496e-03\n",
            "  1.89158016e-03 3.01422530e-03 3.52172241e-03 0.00000000e+00]\n",
            " [0.00000000e+00 0.00000000e+00 0.00000000e+00 0.00000000e+00\n",
            "  0.00000000e+00 0.00000000e+00 0.00000000e+00 0.00000000e+00\n",
            "  0.00000000e+00 0.00000000e+00 0.00000000e+00 0.00000000e+00\n",
            "  0.00000000e+00 2.81430219e-03 3.46020761e-03 3.32179931e-03\n",
            "  3.42945021e-03 3.50634371e-03 3.61399462e-03 3.49096501e-03\n",
            "  3.44482891e-03 3.41407151e-03 3.44482891e-03 3.39869281e-03\n",
            "  3.42945021e-03 3.76778162e-03 2.66051519e-03 0.00000000e+00]\n",
            " [0.00000000e+00 0.00000000e+00 0.00000000e+00 0.00000000e+00\n",
            "  0.00000000e+00 0.00000000e+00 0.00000000e+00 0.00000000e+00\n",
            "  0.00000000e+00 0.00000000e+00 0.00000000e+00 0.00000000e+00\n",
            "  0.00000000e+00 2.96808920e-03 3.50634371e-03 3.35255671e-03\n",
            "  3.27566321e-03 3.04498270e-03 2.76816609e-03 3.26028451e-03\n",
            "  3.22952710e-03 3.24490581e-03 3.27566321e-03 3.42945021e-03\n",
            "  3.38331411e-03 3.73702422e-03 3.10649750e-03 0.00000000e+00]\n",
            " [0.00000000e+00 0.00000000e+00 0.00000000e+00 0.00000000e+00\n",
            "  0.00000000e+00 0.00000000e+00 0.00000000e+00 0.00000000e+00\n",
            "  0.00000000e+00 1.53787005e-05 4.61361015e-05 0.00000000e+00\n",
            "  1.84544406e-04 3.36793541e-03 3.38331411e-03 3.26028451e-03\n",
            "  3.35255671e-03 2.95271050e-03 2.59900038e-03 3.49096501e-03\n",
            "  3.19876970e-03 3.35255671e-03 3.44482891e-03 3.26028451e-03\n",
            "  3.47558631e-03 3.02960400e-03 3.21414840e-03 7.99692426e-04]\n",
            " [0.00000000e+00 0.00000000e+00 0.00000000e+00 0.00000000e+00\n",
            "  0.00000000e+00 0.00000000e+00 0.00000000e+00 0.00000000e+00\n",
            "  0.00000000e+00 0.00000000e+00 9.22722030e-05 0.00000000e+00\n",
            "  1.52249135e-03 3.75240292e-03 3.41407151e-03 3.38331411e-03\n",
            "  3.35255671e-03 3.12187620e-03 3.04498270e-03 3.39869281e-03\n",
            "  3.30642061e-03 3.27566321e-03 3.41407151e-03 3.38331411e-03\n",
            "  3.76778162e-03 1.83006536e-03 2.56824298e-03 8.61207228e-04]\n",
            " [0.00000000e+00 0.00000000e+00 0.00000000e+00 0.00000000e+00\n",
            "  0.00000000e+00 0.00000000e+00 0.00000000e+00 0.00000000e+00\n",
            "  0.00000000e+00 6.15148020e-05 0.00000000e+00 0.00000000e+00\n",
            "  8.45828527e-04 3.62937332e-03 3.50634371e-03 3.53710111e-03\n",
            "  3.50634371e-03 3.69088812e-03 3.56785852e-03 3.27566321e-03\n",
            "  3.35255671e-03 3.42945021e-03 3.59861592e-03 3.33717801e-03\n",
            "  3.33717801e-03 3.21414840e-03 1.41484045e-03 0.00000000e+00]\n",
            " [0.00000000e+00 0.00000000e+00 1.53787005e-05 6.15148020e-05\n",
            "  9.22722030e-05 1.07650903e-04 3.07574010e-05 0.00000000e+00\n",
            "  0.00000000e+00 0.00000000e+00 0.00000000e+00 0.00000000e+00\n",
            "  3.64475202e-03 3.47558631e-03 3.33717801e-03 3.42945021e-03\n",
            "  3.41407151e-03 3.36793541e-03 3.41407151e-03 3.39869281e-03\n",
            "  3.32179931e-03 3.42945021e-03 3.52172241e-03 3.30642061e-03\n",
            "  3.35255671e-03 3.92156863e-03 1.18415994e-03 0.00000000e+00]\n",
            " [0.00000000e+00 4.61361015e-05 0.00000000e+00 0.00000000e+00\n",
            "  0.00000000e+00 0.00000000e+00 0.00000000e+00 0.00000000e+00\n",
            "  0.00000000e+00 9.53479431e-04 2.22991157e-03 3.13725490e-03\n",
            "  3.50634371e-03 3.18339100e-03 3.27566321e-03 3.39869281e-03\n",
            "  3.35255671e-03 3.19876970e-03 3.24490581e-03 3.35255671e-03\n",
            "  3.44482891e-03 3.42945021e-03 3.36793541e-03 3.30642061e-03\n",
            "  3.44482891e-03 3.75240292e-03 2.44521338e-03 0.00000000e+00]\n",
            " [0.00000000e+00 0.00000000e+00 0.00000000e+00 0.00000000e+00\n",
            "  2.76816609e-04 6.76662822e-04 1.26105344e-03 1.64552095e-03\n",
            "  2.90657439e-03 3.50634371e-03 3.38331411e-03 3.41407151e-03\n",
            "  3.33717801e-03 3.47558631e-03 3.07574010e-03 3.15263360e-03\n",
            "  3.24490581e-03 3.53710111e-03 3.44482891e-03 3.59861592e-03\n",
            "  2.70665129e-03 2.89119569e-03 3.84467512e-03 3.81391772e-03\n",
            "  3.58323722e-03 3.66013072e-03 3.30642061e-03 0.00000000e+00]\n",
            " [0.00000000e+00 8.76585928e-04 2.87581699e-03 3.19876970e-03\n",
            "  3.44482891e-03 3.39869281e-03 3.44482891e-03 3.19876970e-03\n",
            "  3.13725490e-03 3.29104191e-03 3.19876970e-03 3.21414840e-03\n",
            "  3.07574010e-03 2.44521338e-03 3.76778162e-03 2.96808920e-03\n",
            "  3.16801230e-03 3.42945021e-03 3.92156863e-03 3.92156863e-03\n",
            "  3.39869281e-03 3.59861592e-03 3.39869281e-03 3.24490581e-03\n",
            "  3.38331411e-03 3.56785852e-03 3.78316032e-03 0.00000000e+00]\n",
            " [4.61361015e-05 3.10649750e-03 3.50634371e-03 3.44482891e-03\n",
            "  3.39869281e-03 3.24490581e-03 3.24490581e-03 3.29104191e-03\n",
            "  3.15263360e-03 3.15263360e-03 3.15263360e-03 3.38331411e-03\n",
            "  3.69088812e-03 1.23029604e-03 2.30680507e-03 3.92156863e-03\n",
            "  3.52172241e-03 3.39869281e-03 2.89119569e-03 2.36831988e-03\n",
            "  2.93733180e-03 3.22952710e-03 3.13725490e-03 3.21414840e-03\n",
            "  3.41407151e-03 3.50634371e-03 3.46020761e-03 0.00000000e+00]\n",
            " [1.50711265e-03 3.58323722e-03 3.04498270e-03 3.22952710e-03\n",
            "  3.41407151e-03 3.52172241e-03 3.52172241e-03 3.59861592e-03\n",
            "  3.82929642e-03 3.38331411e-03 2.98346790e-03 3.30642061e-03\n",
            "  3.33717801e-03 3.70626682e-03 9.99615532e-04 1.12264514e-03\n",
            "  1.63014225e-03 1.79930796e-03 2.58362168e-03 3.36793541e-03\n",
            "  3.39869281e-03 3.30642061e-03 3.33717801e-03 3.42945021e-03\n",
            "  3.42945021e-03 3.44482891e-03 3.52172241e-03 4.45982314e-04]\n",
            " [1.15340254e-03 3.13725490e-03 3.26028451e-03 3.13725490e-03\n",
            "  2.96808920e-03 3.15263360e-03 3.24490581e-03 3.46020761e-03\n",
            "  3.32179931e-03 2.84505959e-03 3.02960400e-03 3.16801230e-03\n",
            "  3.04498270e-03 3.27566321e-03 3.69088812e-03 2.99884660e-03\n",
            "  3.49096501e-03 3.76778162e-03 3.67550942e-03 3.42945021e-03\n",
            "  3.35255671e-03 3.26028451e-03 3.21414840e-03 3.41407151e-03\n",
            "  3.38331411e-03 3.39869281e-03 3.53710111e-03 1.03037293e-03]\n",
            " [7.38177624e-04 3.12187620e-03 2.81430219e-03 2.98346790e-03\n",
            "  3.27566321e-03 3.02960400e-03 2.84505959e-03 2.92195309e-03\n",
            "  2.98346790e-03 2.95271050e-03 3.10649750e-03 3.29104191e-03\n",
            "  3.36793541e-03 3.39869281e-03 3.38331411e-03 3.62937332e-03\n",
            "  3.46020761e-03 3.32179931e-03 3.06036140e-03 3.16801230e-03\n",
            "  2.86043829e-03 2.78354479e-03 2.72202999e-03 2.64513649e-03\n",
            "  2.78354479e-03 3.15263360e-03 3.16801230e-03 1.76855056e-03]\n",
            " [0.00000000e+00 1.87620146e-03 3.36793541e-03 2.96808920e-03\n",
            "  2.75278739e-03 2.62975779e-03 2.81430219e-03 3.01422530e-03\n",
            "  3.13725490e-03 3.22952710e-03 3.27566321e-03 3.18339100e-03\n",
            "  3.24490581e-03 3.22952710e-03 3.07574010e-03 3.01422530e-03\n",
            "  2.98346790e-03 2.93733180e-03 2.99884660e-03 2.93733180e-03\n",
            "  3.04498270e-03 2.95271050e-03 2.70665129e-03 2.39907728e-03\n",
            "  2.56824298e-03 2.72202999e-03 3.22952710e-03 1.41484045e-03]\n",
            " [0.00000000e+00 0.00000000e+00 1.13802384e-03 2.90657439e-03\n",
            "  3.26028451e-03 2.93733180e-03 2.69127259e-03 2.64513649e-03\n",
            "  2.69127259e-03 2.78354479e-03 2.84505959e-03 2.89119569e-03\n",
            "  2.90657439e-03 2.89119569e-03 2.96808920e-03 3.04498270e-03\n",
            "  3.13725490e-03 3.21414840e-03 3.22952710e-03 3.22952710e-03\n",
            "  3.24490581e-03 2.89119569e-03 2.89119569e-03 2.98346790e-03\n",
            "  2.95271050e-03 3.32179931e-03 2.61437908e-03 0.00000000e+00]\n",
            " [3.07574010e-05 0.00000000e+00 0.00000000e+00 0.00000000e+00\n",
            "  1.01499423e-03 3.07574010e-03 3.41407151e-03 3.64475202e-03\n",
            "  3.67550942e-03 3.72164552e-03 3.78316032e-03 3.73702422e-03\n",
            "  3.75240292e-03 3.39869281e-03 3.38331411e-03 2.96808920e-03\n",
            "  2.93733180e-03 2.75278739e-03 2.79892349e-03 2.79892349e-03\n",
            "  2.78354479e-03 2.70665129e-03 2.55286428e-03 2.58362168e-03\n",
            "  1.52249135e-03 8.91964629e-04 0.00000000e+00 0.00000000e+00]\n",
            " [0.00000000e+00 0.00000000e+00 0.00000000e+00 0.00000000e+00\n",
            "  0.00000000e+00 0.00000000e+00 0.00000000e+00 6.15148020e-04\n",
            "  9.38100730e-04 6.76662822e-04 1.10726644e-03 6.30526720e-04\n",
            "  5.38254517e-04 0.00000000e+00 0.00000000e+00 0.00000000e+00\n",
            "  0.00000000e+00 0.00000000e+00 0.00000000e+00 0.00000000e+00\n",
            "  0.00000000e+00 0.00000000e+00 0.00000000e+00 0.00000000e+00\n",
            "  0.00000000e+00 0.00000000e+00 0.00000000e+00 0.00000000e+00]\n",
            " [0.00000000e+00 0.00000000e+00 0.00000000e+00 0.00000000e+00\n",
            "  0.00000000e+00 0.00000000e+00 0.00000000e+00 0.00000000e+00\n",
            "  0.00000000e+00 0.00000000e+00 0.00000000e+00 0.00000000e+00\n",
            "  0.00000000e+00 0.00000000e+00 0.00000000e+00 0.00000000e+00\n",
            "  0.00000000e+00 0.00000000e+00 0.00000000e+00 0.00000000e+00\n",
            "  0.00000000e+00 0.00000000e+00 0.00000000e+00 0.00000000e+00\n",
            "  0.00000000e+00 0.00000000e+00 0.00000000e+00 0.00000000e+00]\n",
            " [0.00000000e+00 0.00000000e+00 0.00000000e+00 0.00000000e+00\n",
            "  0.00000000e+00 0.00000000e+00 0.00000000e+00 0.00000000e+00\n",
            "  0.00000000e+00 0.00000000e+00 0.00000000e+00 0.00000000e+00\n",
            "  0.00000000e+00 0.00000000e+00 0.00000000e+00 0.00000000e+00\n",
            "  0.00000000e+00 0.00000000e+00 0.00000000e+00 0.00000000e+00\n",
            "  0.00000000e+00 0.00000000e+00 0.00000000e+00 0.00000000e+00\n",
            "  0.00000000e+00 0.00000000e+00 0.00000000e+00 0.00000000e+00]]\n"
          ],
          "name": "stdout"
        }
      ]
    },
    {
      "cell_type": "markdown",
      "metadata": {
        "id": "Jd5qgjOXXn9D",
        "colab_type": "text"
      },
      "source": [
        "Create a model (Sequence of layers) with three layers:\n",
        "1.   Layer 1: Takes in the input data as a flattened ( one dimensional set which is created using the square of values in the image)\n",
        "2.   Layer 2: Create a layer of 128 neurons using Dense. It uses an activation function called **Relu** ( Relu means that if x>0, return x, otherwise return 0)\n",
        "3.   Layer 3: Create the output layer should have the same number of neurons as the number of labels. Here it is 10. It uses the activation function called **Softmax** ( Softmax takes a set of values and picks the one that is biggest )\n",
        "\n"
      ]
    },
    {
      "cell_type": "code",
      "metadata": {
        "id": "HFA0MR83W4hU",
        "colab_type": "code",
        "colab": {}
      },
      "source": [
        "model = tf.keras.models.Sequential([tf.keras.layers.Flatten(),\n",
        "                                    tf.keras.layers.Dense(128, activation = tf.nn.relu),\n",
        "                                    tf.keras.layers.Dense(10, activation = tf.nn.softmax)])"
      ],
      "execution_count": 0,
      "outputs": []
    },
    {
      "cell_type": "code",
      "metadata": {
        "id": "HhoHc_yqZrXD",
        "colab_type": "code",
        "colab": {}
      },
      "source": [
        "model.compile(optimizer = tf.train.AdamOptimizer(),\n",
        "              loss = 'sparse_categorical_crossentropy',\n",
        "              metrics = ['accuracy'])"
      ],
      "execution_count": 0,
      "outputs": []
    },
    {
      "cell_type": "code",
      "metadata": {
        "id": "PeWxH_jPaIYs",
        "colab_type": "code",
        "colab": {
          "base_uri": "https://localhost:8080/",
          "height": 233
        },
        "outputId": "1b4738d4-6c37-4e07-ee00-047fa33e1acb"
      },
      "source": [
        "model.fit(training_images, training_labels, epochs = 5)"
      ],
      "execution_count": 38,
      "outputs": [
        {
          "output_type": "stream",
          "text": [
            "Train on 60000 samples\n",
            "Epoch 1/5\n",
            "60000/60000 [==============================] - 4s 69us/sample - loss: 1.0648 - acc: 0.6697\n",
            "Epoch 2/5\n",
            "60000/60000 [==============================] - 4s 67us/sample - loss: 0.6297 - acc: 0.7737\n",
            "Epoch 3/5\n",
            "60000/60000 [==============================] - 4s 67us/sample - loss: 0.5557 - acc: 0.8022\n",
            "Epoch 4/5\n",
            "60000/60000 [==============================] - 4s 66us/sample - loss: 0.5144 - acc: 0.8172\n",
            "Epoch 5/5\n",
            "60000/60000 [==============================] - 4s 65us/sample - loss: 0.4875 - acc: 0.8277\n"
          ],
          "name": "stdout"
        },
        {
          "output_type": "execute_result",
          "data": {
            "text/plain": [
              "<tensorflow.python.keras.callbacks.History at 0x7fa3abe4bc50>"
            ]
          },
          "metadata": {
            "tags": []
          },
          "execution_count": 38
        }
      ]
    },
    {
      "cell_type": "code",
      "metadata": {
        "id": "RI8IYui-aU3R",
        "colab_type": "code",
        "colab": {
          "base_uri": "https://localhost:8080/",
          "height": 53
        },
        "outputId": "c8457f31-fb04-40f0-90d1-1334e47a50e2"
      },
      "source": [
        "model.evaluate(test_images, test_labels)"
      ],
      "execution_count": 39,
      "outputs": [
        {
          "output_type": "stream",
          "text": [
            "10000/10000 [==============================] - 0s 38us/sample - loss: 0.5027 - acc: 0.8211\n"
          ],
          "name": "stdout"
        },
        {
          "output_type": "execute_result",
          "data": {
            "text/plain": [
              "[0.50267992105484, 0.8211]"
            ]
          },
          "metadata": {
            "tags": []
          },
          "execution_count": 39
        }
      ]
    },
    {
      "cell_type": "markdown",
      "metadata": {
        "id": "0yZ_PpLSa5F9",
        "colab_type": "text"
      },
      "source": [
        "We can also define **Callbacks** i.e. the model will stop training as soon as it reaches our expected accuracy. We need to write a class for it."
      ]
    },
    {
      "cell_type": "code",
      "metadata": {
        "id": "1ur-eCwRbIpC",
        "colab_type": "code",
        "colab": {}
      },
      "source": [
        "class myCallback(tf.keras.callbacks.Callback):\n",
        "  def on_epoch_end(self, epoch, logs={}):\n",
        "    if(logs.get('acc')>0.86):\n",
        "      print(\"\\nReached 86% accuracy so cancelling training!\")\n",
        "      self.model.stop_training = True"
      ],
      "execution_count": 0,
      "outputs": []
    },
    {
      "cell_type": "code",
      "metadata": {
        "id": "LU8fRcBybqD1",
        "colab_type": "code",
        "colab": {}
      },
      "source": [
        "callbacks = myCallback()"
      ],
      "execution_count": 0,
      "outputs": []
    },
    {
      "cell_type": "code",
      "metadata": {
        "id": "U9_g2WzEa4nG",
        "colab_type": "code",
        "colab": {
          "base_uri": "https://localhost:8080/",
          "height": 125
        },
        "outputId": "53c741cf-f5d7-4fcc-bfa3-64fba76376c5"
      },
      "source": [
        "model.fit(training_images, training_labels, epochs = 10, callbacks= [callbacks])"
      ],
      "execution_count": 50,
      "outputs": [
        {
          "output_type": "stream",
          "text": [
            "Train on 60000 samples\n",
            "Epoch 1/10\n",
            "59424/60000 [============================>.] - ETA: 0s - loss: 0.3856 - acc: 0.8648\n",
            "Reached 86% accuracy so cancelling training!\n",
            "60000/60000 [==============================] - 4s 69us/sample - loss: 0.3852 - acc: 0.8648\n"
          ],
          "name": "stdout"
        },
        {
          "output_type": "execute_result",
          "data": {
            "text/plain": [
              "<tensorflow.python.keras.callbacks.History at 0x7fa3aa02b668>"
            ]
          },
          "metadata": {
            "tags": []
          },
          "execution_count": 50
        }
      ]
    },
    {
      "cell_type": "markdown",
      "metadata": {
        "id": "dGV0NAtRdU6A",
        "colab_type": "text"
      },
      "source": [
        "## **03. Predict Hand Written Digits using MNIST data**"
      ]
    },
    {
      "cell_type": "markdown",
      "metadata": {
        "id": "hEFbw-fLdeTE",
        "colab_type": "text"
      },
      "source": [
        "This model uses MNIST data to predict hand-written digits"
      ]
    },
    {
      "cell_type": "code",
      "metadata": {
        "id": "XHRJYn9Cd_sj",
        "colab_type": "code",
        "colab": {}
      },
      "source": [
        "import tensorflow as tf\n",
        "import matplotlib.pyplot as plt"
      ],
      "execution_count": 0,
      "outputs": []
    },
    {
      "cell_type": "code",
      "metadata": {
        "id": "Eellg-IReg46",
        "colab_type": "code",
        "colab": {}
      },
      "source": [
        "mnist = tf.keras.datasets.mnist\n",
        "(train_data, train_labels), (test_data, test_labels) = mnist.load_data()"
      ],
      "execution_count": 0,
      "outputs": []
    },
    {
      "cell_type": "code",
      "metadata": {
        "id": "lMA-KWoFevwF",
        "colab_type": "code",
        "colab": {
          "base_uri": "https://localhost:8080/",
          "height": 265
        },
        "outputId": "a27ef1a4-76b1-4170-cb49-ae7703288804"
      },
      "source": [
        "pixels = train_data[5].reshape((28, 28))\n",
        "plt.imshow(pixels, cmap='gray')\n",
        "plt.show()"
      ],
      "execution_count": 75,
      "outputs": [
        {
          "output_type": "display_data",
          "data": {
            "image/png": "[encoded data removed]",
            "text/plain": [
              "<Figure size 432x288 with 1 Axes>"
            ]
          },
          "metadata": {
            "tags": []
          }
        }
      ]
    },
    {
      "cell_type": "code",
      "metadata": {
        "id": "vrqkRJyGgGe5",
        "colab_type": "code",
        "colab": {
          "base_uri": "https://localhost:8080/",
          "height": 35
        },
        "outputId": "ad01a83a-2ac5-40ec-a8a0-c44354436b70"
      },
      "source": [
        "print(train_labels[5])\n"
      ],
      "execution_count": 66,
      "outputs": [
        {
          "output_type": "stream",
          "text": [
            "2\n"
          ],
          "name": "stdout"
        }
      ]
    },
    {
      "cell_type": "code",
      "metadata": {
        "id": "KM11ItLIek21",
        "colab_type": "code",
        "colab": {}
      },
      "source": [
        "train_data = train_data/255.0\n",
        "test_data = test_data/255.0"
      ],
      "execution_count": 0,
      "outputs": []
    },
    {
      "cell_type": "code",
      "metadata": {
        "id": "0H4Hq6OfgMWY",
        "colab_type": "code",
        "colab": {}
      },
      "source": [
        "model = tf.keras.models.Sequential([tf.keras.layers.Flatten(input_shape=(28, 28)),\n",
        "                                    tf.keras.layers.Dense(512, activation = tf.nn.relu),\n",
        "                                    tf.keras.layers.Dense(10, activation = tf.nn.softmax)])"
      ],
      "execution_count": 0,
      "outputs": []
    },
    {
      "cell_type": "code",
      "metadata": {
        "id": "OKuY2NNdg7Ea",
        "colab_type": "code",
        "colab": {}
      },
      "source": [
        "model.compile(optimizer = tf.train.AdamOptimizer(),\n",
        "              loss='sparse_categorical_crossentropy',\n",
        "              metrics=['accuracy'])"
      ],
      "execution_count": 0,
      "outputs": []
    },
    {
      "cell_type": "code",
      "metadata": {
        "id": "HPwWvnAsh1cD",
        "colab_type": "code",
        "colab": {}
      },
      "source": [
        "class myCallback(tf.keras.callbacks.Callback):\n",
        "  def on_epoch_end(self, epoch, logs={}):\n",
        "    if(logs.get('acc')>0.90):\n",
        "      print(\"\\nReached 90% accuracy so cancelling training!\")\n",
        "      self.model.stop_training = True"
      ],
      "execution_count": 0,
      "outputs": []
    },
    {
      "cell_type": "code",
      "metadata": {
        "id": "6q5_9xXNiDpB",
        "colab_type": "code",
        "colab": {}
      },
      "source": [
        "callbacks = myCallback()"
      ],
      "execution_count": 0,
      "outputs": []
    },
    {
      "cell_type": "code",
      "metadata": {
        "id": "Yi8XNrZ7iHou",
        "colab_type": "code",
        "colab": {
          "base_uri": "https://localhost:8080/",
          "height": 125
        },
        "outputId": "ebafa6ef-98bc-47a0-89f0-bb56012016d6"
      },
      "source": [
        "model.fit(train_data, train_labels, epochs = 10, callbacks= [callbacks])"
      ],
      "execution_count": 81,
      "outputs": [
        {
          "output_type": "stream",
          "text": [
            "Train on 60000 samples\n",
            "Epoch 1/10\n",
            "59680/60000 [============================>.] - ETA: 0s - loss: 0.2036 - acc: 0.9393\n",
            "Reached 90% accuracy so cancelling training!\n",
            "60000/60000 [==============================] - 7s 121us/sample - loss: 0.2029 - acc: 0.9395\n"
          ],
          "name": "stdout"
        },
        {
          "output_type": "execute_result",
          "data": {
            "text/plain": [
              "<tensorflow.python.keras.callbacks.History at 0x7fa3a9d5fe48>"
            ]
          },
          "metadata": {
            "tags": []
          },
          "execution_count": 81
        }
      ]
    },
    {
      "cell_type": "code",
      "metadata": {
        "id": "S0D3bZXCiT11",
        "colab_type": "code",
        "colab": {
          "base_uri": "https://localhost:8080/",
          "height": 53
        },
        "outputId": "cbacdb6c-68ba-41ff-a79f-d0deb34fc635"
      },
      "source": [
        "model.evaluate(test_data, test_labels)"
      ],
      "execution_count": 82,
      "outputs": [
        {
          "output_type": "stream",
          "text": [
            "10000/10000 [==============================] - 1s 61us/sample - loss: 0.1086 - acc: 0.9670\n"
          ],
          "name": "stdout"
        },
        {
          "output_type": "execute_result",
          "data": {
            "text/plain": [
              "[0.10861083717383445, 0.967]"
            ]
          },
          "metadata": {
            "tags": []
          },
          "execution_count": 82
        }
      ]
    }
  ]
}